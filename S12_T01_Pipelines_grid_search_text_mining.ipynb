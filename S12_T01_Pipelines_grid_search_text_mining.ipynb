{
  "cells": [
    {
      "cell_type": "markdown",
      "metadata": {
        "id": "view-in-github",
        "colab_type": "text"
      },
      "source": [
        "<a href=\"https://colab.research.google.com/github/leobioinf0/Machine-Learning-Advanced/blob/main/S12_T01_Pipelines_grid_search_text_mining.ipynb\" target=\"_parent\"><img src=\"https://colab.research.google.com/assets/colab-badge.svg\" alt=\"Open In Colab\"/></a>"
      ]
    },
    {
      "cell_type": "markdown",
      "metadata": {
        "id": "38mTTSRuHt1h"
      },
      "source": [
        "# IT Academy - Data Science with Python\n",
        "## [Sprint 12. Machine learning avançat](https://github.com/jesussantana/Supervised-Regression/blob/main/notebooks/S12_T01_Supevised_Regression.ipynb) \n",
        "### [S12 T01: Pipelines, grid search i text mining](https://github.com/jesussantana/Supervised-Regression) \n",
        "\n",
        "\n",
        "\n",
        "#### Exercises: \n",
        "\n",
        "We are starting to get acquainted with Pipelines, grid search and text mining. Let’s start with a few basic exercises.\n",
        "\n",
        "- Level 1\n",
        "    - Exercise 1: \n",
        "        - Use the data set you want and do a pipeline and a gridsearch using the Random Forest algorithm.\n",
        "    - Exercise 2: \n",
        "        - Use a text in English that you want and calculate the frequency of the words\n",
        "- Level 2\n",
        "    - Exercise 1: \n",
        "        - Remove stopwords and stemming your dataset.\n",
        "\n",
        "- Level 3\n",
        "    - Exercise 1: \n",
        "        - Perform sentiment analysis on your dataset.\n",
        "\n",
        "Resources\n",
        "Classroom resources and https://www.nltk.org"
      ]
    },
    {
      "cell_type": "markdown",
      "metadata": {
        "id": "9xEX7UfSaALn"
      },
      "source": [
        "# Setup"
      ]
    },
    {
      "cell_type": "markdown",
      "metadata": {
        "id": "jg9sGeCrhmBa"
      },
      "source": [
        "## Upgrade modules"
      ]
    },
    {
      "cell_type": "code",
      "execution_count": null,
      "metadata": {
        "id": "7a8pUET2qgTm"
      },
      "outputs": [],
      "source": [
        "!pip3 install --upgrade matplotlib\n",
        "!pip3 install --upgrade scikit-learn\n",
        "!pip3 install --upgrade numpy\n",
        "!pip3 install --upgrade pandas\n",
        "!pip3 install --upgrade seaborn"
      ]
    },
    {
      "cell_type": "markdown",
      "metadata": {
        "id": "D8nc-gSiaEl5"
      },
      "source": [
        "## Importing Dependencies"
      ]
    },
    {
      "cell_type": "code",
      "source": [
        "from google.colab import drive\n",
        "drive.mount('/content/drive')"
      ],
      "metadata": {
        "colab": {
          "base_uri": "https://localhost:8080/"
        },
        "id": "Lk25F_VYwpZl",
        "outputId": "167fda09-524e-43a0-8a15-38c96de3ddf6"
      },
      "execution_count": 39,
      "outputs": [
        {
          "output_type": "stream",
          "name": "stdout",
          "text": [
            "Drive already mounted at /content/drive; to attempt to forcibly remount, call drive.mount(\"/content/drive\", force_remount=True).\n"
          ]
        }
      ]
    },
    {
      "cell_type": "code",
      "execution_count": 2,
      "metadata": {
        "id": "FnM3hQo2aGlP"
      },
      "outputs": [],
      "source": [
        "import os\n",
        "import math\n",
        "import pickle\n",
        "import re\n",
        "import pandas as pd\n",
        "import numpy as np\n",
        "import seaborn as sns\n",
        "import missingno as msno\n",
        "import matplotlib.pyplot as plt\n",
        "\n",
        "from sklearn.datasets import fetch_openml\n",
        "\n",
        "from sklearn.preprocessing import RobustScaler\n",
        "from sklearn.preprocessing import OneHotEncoder\n",
        "\n",
        "from sklearn.compose import ColumnTransformer\n",
        "\n",
        "from sklearn.metrics import ConfusionMatrixDisplay\n",
        "from sklearn.metrics import confusion_matrix\n",
        "from sklearn.metrics import classification_report\n",
        "\n",
        "from sklearn.pipeline import Pipeline\n",
        "\n",
        "from sklearn.ensemble import RandomForestClassifier\n",
        "\n",
        "from sklearn.model_selection import cross_val_score\n",
        "from sklearn.model_selection import RandomizedSearchCV\n",
        "from sklearn.model_selection import train_test_split\n",
        "from sklearn.model_selection import GridSearchCV\n",
        "\n",
        "%matplotlib inline\n",
        "\n",
        "np.random.seed(130)\n",
        "sns.set(style='whitegrid', palette='Set2', font_scale=1.2)\n",
        "sns.set(rc={'figure.figsize':(12,7)})"
      ]
    },
    {
      "cell_type": "markdown",
      "metadata": {
        "id": "zKZEGKl2HMP0"
      },
      "source": [
        "## Define functions"
      ]
    },
    {
      "cell_type": "code",
      "execution_count": 3,
      "metadata": {
        "id": "Ygodyh3ZIUIt"
      },
      "outputs": [],
      "source": [
        "def mk_dir(name):\n",
        "    '''\n",
        "    Create directory with the name passed in the case that it does not exist and return its full path.\n",
        "    '''\n",
        "    path = os.path.join(os.getcwd(), name)\n",
        "    if not os.path.exists(path):\n",
        "        try:\n",
        "            os.makedirs(path, 0o700)\n",
        "        except OSError as e:\n",
        "            if e.errno != errno.EEXIST:\n",
        "                raise\n",
        "        print(\"Directory created: {}\".format(path))\n",
        "    else:\n",
        "        print(\"Directory already existing: {}\".format(path))\n",
        "    return path\n",
        "\n",
        "\n",
        "\n",
        "def class_metrics(model, name, X_train, X_test, y_train, y_test, plt_path):\n",
        "    '''\n",
        "    Evaluate a classification model and calculate various metrics. Return the metrics in a dictionary\n",
        "    '''\n",
        "    y_pred = model.predict(X_test)\n",
        "    conf_matrix = confusion_matrix(y_test,y_pred)\n",
        "    \n",
        "    scores = {'Model': name,\n",
        "        'Accuracy':accuracy_score(y_test,y_pred).round(4),\n",
        "        'B_Accuracy':balanced_accuracy_score(y_test,y_pred).round(4),\n",
        "        'F1_Score':f1_score(y_test,y_pred).round(4),\n",
        "        'Precision':precision_score(y_test,y_pred).round(4),\n",
        "        'Recall':recall_score(y_test,y_pred).round(4),\n",
        "        'Specificity' : recall_score(y_test, y_pred, pos_label=0).round(4),\n",
        "        'FP_rate' : (1 - recall_score(y_test, y_pred, pos_label=0)).round(4),\n",
        "        'Misclass_rate' : zero_one_loss(y_test, y_pred).round(4),\n",
        "        'Misclass' : zero_one_loss(y_test, y_pred, normalize=False).round(4),\n",
        "        'TP' : conf_matrix[1, 1].round(4),\n",
        "        'TN' : conf_matrix[0, 0].round(4),\n",
        "        'FP' : conf_matrix[0, 1].round(4),\n",
        "        'FN' : conf_matrix[1, 0].round(4)}\n",
        "    \n",
        "    print(\"Confusion matrix :\\n{}\".format(conf_matrix))\n",
        "\n",
        "    conf_matrix = confusion_matrix(y_test,y_pred,normalize='true')\n",
        "    print(\"Normalized Confusion matrix:\\n{}\".format(conf_matrix))\n",
        "    \n",
        "\n",
        "    scores_table=pd.DataFrame(data=scores.items(), columns=[\"METRIC\", \"VALUES\"])\n",
        "    desc_table=pd.DataFrame(data=model.get_params().items(), columns=[\"PARAMS\", \"VALUES\"])\n",
        "\n",
        "    ax= plt.subplot()\n",
        "    sns.heatmap(conf_matrix, annot=True, fmt='g', ax=ax, square=True, ); \n",
        "    desc_t = ax.table(cellText=desc_table.values,\n",
        "                colLabels=desc_table.columns,\n",
        "                bbox=[1.5, 0, 1.0, 1.0])\n",
        "    desc_t.auto_set_column_width(col=list(range(len(desc_table.columns))))\n",
        "\n",
        "    scores_t = ax.table(cellText=scores_table.values,\n",
        "                colLabels=scores_table.columns,\n",
        "                bbox=[-1.1, 0, 1.0, 1.0])\n",
        "    scores_t.auto_set_column_width(col=list(range(len(scores_table.columns))))\n",
        "    plt.title(name)\n",
        "    plt.savefig(plt_path)\n",
        "    plt.show()\n",
        "\n",
        "    return scores\n",
        "\n",
        "def rounder(n):\n",
        "    \"\"\"\n",
        "    Round up to the first digit that is not zero\n",
        "    \"\"\"\n",
        "    if n == 0:\n",
        "        return n\n",
        "    else:\n",
        "        k = 1 - int(math.log10(n))\n",
        "        return round(n, 1 if n > 1 else k)\n",
        "\n",
        "def describer(dataframe):\n",
        "    \"\"\"\n",
        "    Description of dataframe\n",
        "    \"\"\"\n",
        "    desc_df = round(dataframe.describe(include=\"all\"),2).T\n",
        "    desc_df[\"unique\"]=dataframe.nunique()\n",
        "    desc_df[\"NullAny\"]= dataframe.isnull().any()\n",
        "    desc_df[\"NullSum\"]=dataframe.isnull().sum()\n",
        "    desc_df[\"NullPct\"]=(dataframe.isnull().sum()/len(dataframe)*100).apply(rounder)\n",
        "    desc_df[\"dtypes\"]=dataframe.dtypes\n",
        "    desc_df[\"dtypes\"] = desc_df[\"dtypes\"].astype('category')\n",
        "    desc_df.sort_values(by=\"dtypes\", inplace=True)\n",
        "    return(desc_df)\n",
        "\n",
        "def impute_age(input_df):\n",
        "    titles = ['Mrs. ','Ms. ','Miss. ','Mr. ','Master. ','Dr. ']\n",
        "    for title in titles: \n",
        "        title_mean_age = round(input_df[(input_df.name.str.contains(title))]['age'].mean())\n",
        "        input_df.loc[input_df.name.str.contains(title),'age'] = input_df.loc[input_df.name.str.contains(title),'age'].fillna(value=title_mean_age)\n",
        "    \n",
        "    input_df.age = np.ceil(input_df.age)\n",
        "    return input_df\n",
        "\n",
        "def impute_fare(input_df):\n",
        "    for i in input_df.loc[input_df.fare.isnull()].index:\n",
        "        input_df.loc[i,\"fare\"] = input_df.loc[(input_df.pclass==input_df.iloc[i].pclass)&\n",
        "                                              (input_df.embarked==input_df.iloc[i].embarked),\"fare\"].mode()[0]\n",
        "    return input_df\n",
        "\n",
        "def impute_embarked(input_df):\n",
        "    for i in input_df.loc[input_df.embarked.isnull()].index:\n",
        "        input_df.loc[i,\"embarked\"] = input_df.loc[(input_df.pclass==input_df.iloc[i].pclass)&\n",
        "                                                  (input_df.cabin.str.match(input_df.iloc[i].cabin[:-1])),\"embarked\"].mode()[0]\n",
        "    input_df.embarked = input_df.embarked.astype(\"category\").cat.codes\n",
        "    return input_df\n",
        "\n",
        "def process_cabin(input_df):\n",
        "    input_df['cabin'] = pd.Series([i if pd.isnull(i) else i[0] for i in input_df['cabin']])\n",
        "    return input_df\n",
        "\n",
        "def process_sex(input_df):\n",
        "    input_df.sex = input_df.sex.astype(\"category\").cat.codes\n",
        "    return input_df\n",
        "\n",
        "def process_pclass(input_df):\n",
        "    input_df.pclass = input_df.pclass.astype(\"category\").cat.codes\n",
        "    return input_df\n",
        "\n",
        "def impute_cabin(input_df):\n",
        "    i = 0\n",
        "    while input_df.cabin.isnull().any():\n",
        "        nulls_indexes = input_df[input_df.cabin.isnull()].index\n",
        "        for index in nulls_indexes:\n",
        "            e,p,f = input_df.loc[index,[\"embarked\",\"pclass\", \"fare\"]].values\n",
        "            cabin_mode = input_df.loc[(input_df.embarked==e)&(input_df.pclass==p)&((input_df.fare>=f-i)& (input_df.fare<=f+i)),\"cabin\"].mode().tolist()\n",
        "            if len(cabin_mode) > 0:\n",
        "                input_df.loc[index] = input_df.loc[index].fillna(value=cabin_mode[0])\n",
        "        i=i+1\n",
        "    input_df.cabin = input_df.cabin.astype(\"category\").cat.codes\n",
        "    return input_df\n"
      ]
    },
    {
      "cell_type": "markdown",
      "metadata": {
        "id": "zlKstDoZe_fO"
      },
      "source": [
        "## Define classes"
      ]
    },
    {
      "cell_type": "code",
      "source": [
        "\n",
        "class AgeImputer():\n",
        "    def __init__(self, func):\n",
        "        self.func = func\n",
        "\n",
        "    def transform(self, input_df, **transform_params):\n",
        "        return self.func(input_df)\n",
        "\n",
        "    def fit(self, X, y=None, **fit_params):\n",
        "        return self\n",
        "\n",
        "class DropColumnsTransformer():\n",
        "    def __init__(self, columns=None):\n",
        "        self.columns = list(columns)\n",
        "\n",
        "    def transform(self, X, **transform_params):\n",
        "        cpy_df = X.drop(self.columns, axis=1).copy()\n",
        "        return cpy_df\n",
        "\n",
        "    def fit(self, X, y=None, **fit_params):\n",
        "        return self\n",
        "\n",
        "class FareImputer():\n",
        "    def __init__(self, func):\n",
        "        self.func = func\n",
        "\n",
        "    def transform(self, input_df, **transform_params):\n",
        "        return self.func(input_df)\n",
        "\n",
        "    def fit(self, X, y=None, **fit_params):\n",
        "        return self\n",
        "\n",
        "class EmbarkedImputer():\n",
        "    def __init__(self, func):\n",
        "        self.func = func\n",
        "\n",
        "    def transform(self, input_df, **transform_params):\n",
        "        return self.func(input_df)\n",
        "\n",
        "    def fit(self, X, y=None, **fit_params):\n",
        "        return self\n",
        "class CabinProcessor():\n",
        "    def __init__(self, func):\n",
        "        self.func = func\n",
        "\n",
        "    def transform(self, input_df, **transform_params):\n",
        "        return self.func(input_df)\n",
        "\n",
        "    def fit(self, X, y=None, **fit_params):\n",
        "        return self\n",
        "\n",
        "class SexProcessor():\n",
        "    def __init__(self, func):\n",
        "        self.func = func\n",
        "\n",
        "    def transform(self, input_df, **transform_params):\n",
        "        return self.func(input_df)\n",
        "\n",
        "    def fit(self, X, y=None, **fit_params):\n",
        "        return self\n",
        "\n",
        "class PclassProcessor():\n",
        "    def __init__(self, func):\n",
        "        self.func = func\n",
        "\n",
        "    def transform(self, input_df, **transform_params):\n",
        "        return self.func(input_df)\n",
        "\n",
        "    def fit(self, X, y=None, **fit_params):\n",
        "        return self\n",
        "\n",
        "class CabinImputer():\n",
        "    def __init__(self, func):\n",
        "        self.func = func\n",
        "\n",
        "    def transform(self, input_df, **transform_params):\n",
        "        return self.func(input_df)\n",
        "\n",
        "    def fit(self, X, y=None, **fit_params):\n",
        "        return self"
      ],
      "metadata": {
        "id": "b0uXzxXyvzLx"
      },
      "execution_count": 4,
      "outputs": []
    },
    {
      "cell_type": "markdown",
      "metadata": {
        "id": "tFHvFCn4fO9o"
      },
      "source": [
        "## dir"
      ]
    },
    {
      "cell_type": "code",
      "source": [
        "# Definir el directorio de trabajo\n",
        "\n",
        "#os.chdir('./')\n",
        "os.chdir('/content/drive/MyDrive/Data_Science_amb_Python/Sprint12-Machine_learning_avancat/Machine-Learning-Advanced')\n",
        "print(os.getcwd())"
      ],
      "metadata": {
        "colab": {
          "base_uri": "https://localhost:8080/"
        },
        "id": "fYi_NQglTcGR",
        "outputId": "063aa33e-a861-4b80-a981-36f2ae884c2f"
      },
      "execution_count": 7,
      "outputs": [
        {
          "output_type": "stream",
          "name": "stdout",
          "text": [
            "/content/drive/MyDrive/Data_Science_amb_Python/Sprint12-Machine_learning_avancat/Machine-Learning-Advanced\n"
          ]
        }
      ]
    },
    {
      "cell_type": "markdown",
      "source": [
        "# Exercise 1:\n",
        "Use the data set you want and do a pipeline and a gridsearch using the Random Forest algorithm."
      ],
      "metadata": {
        "id": "l4pIhz6kbPBm"
      }
    },
    {
      "cell_type": "markdown",
      "metadata": {
        "id": "IdkRH7wgaLhj"
      },
      "source": [
        "## Loading the Data"
      ]
    },
    {
      "cell_type": "markdown",
      "metadata": {
        "id": "XBcgn3l0i_g0"
      },
      "source": [
        "The titanic dataset contains the following information on passengers of the titanic:\n",
        "\n",
        "- **Survival**: Survival 0 = No, 1 = Yes (Prediction Label)\n",
        "- **Pclass**: Ticket class 1 = 1st, 2 = 2nd, 3 = 3rd\n",
        "- **Sex**: Sex\n",
        "- **Age**: Age in years\n",
        "- **SibSp**: # of siblings / spouses aboard the Titanic\n",
        "- **Parch**: # of parents / children aboard the Titanic\n",
        "- **Ticket**: Ticket number\n",
        "- **Fare**: Passenger fare\n",
        "- **Cabin**: Cabin number\n",
        "- **Embarked**: Port of Embarkation C = Cherbourg, Q = Queenstown, S = Southampton"
      ]
    },
    {
      "cell_type": "code",
      "execution_count": 8,
      "metadata": {
        "id": "y-yNin37aMZA"
      },
      "outputs": [],
      "source": [
        "X, y = fetch_openml(\"titanic\", version=1, as_frame=True, return_X_y=True)"
      ]
    },
    {
      "cell_type": "code",
      "source": [
        "X.head(2)"
      ],
      "metadata": {
        "colab": {
          "base_uri": "https://localhost:8080/",
          "height": 0
        },
        "id": "gRASL0WKgBmV",
        "outputId": "27ac47c0-fe28-499d-ab01-21167c9e76b9"
      },
      "execution_count": 9,
      "outputs": [
        {
          "output_type": "execute_result",
          "data": {
            "text/html": [
              "\n",
              "  <div id=\"df-53969692-d49b-4c9c-be31-bb12d5665f5e\">\n",
              "    <div class=\"colab-df-container\">\n",
              "      <div>\n",
              "<style scoped>\n",
              "    .dataframe tbody tr th:only-of-type {\n",
              "        vertical-align: middle;\n",
              "    }\n",
              "\n",
              "    .dataframe tbody tr th {\n",
              "        vertical-align: top;\n",
              "    }\n",
              "\n",
              "    .dataframe thead th {\n",
              "        text-align: right;\n",
              "    }\n",
              "</style>\n",
              "<table border=\"1\" class=\"dataframe\">\n",
              "  <thead>\n",
              "    <tr style=\"text-align: right;\">\n",
              "      <th></th>\n",
              "      <th>pclass</th>\n",
              "      <th>name</th>\n",
              "      <th>sex</th>\n",
              "      <th>age</th>\n",
              "      <th>sibsp</th>\n",
              "      <th>parch</th>\n",
              "      <th>ticket</th>\n",
              "      <th>fare</th>\n",
              "      <th>cabin</th>\n",
              "      <th>embarked</th>\n",
              "      <th>boat</th>\n",
              "      <th>body</th>\n",
              "      <th>home.dest</th>\n",
              "    </tr>\n",
              "  </thead>\n",
              "  <tbody>\n",
              "    <tr>\n",
              "      <th>0</th>\n",
              "      <td>1.0</td>\n",
              "      <td>Allen, Miss. Elisabeth Walton</td>\n",
              "      <td>female</td>\n",
              "      <td>29.0000</td>\n",
              "      <td>0.0</td>\n",
              "      <td>0.0</td>\n",
              "      <td>24160</td>\n",
              "      <td>211.3375</td>\n",
              "      <td>B5</td>\n",
              "      <td>S</td>\n",
              "      <td>2</td>\n",
              "      <td>NaN</td>\n",
              "      <td>St Louis, MO</td>\n",
              "    </tr>\n",
              "    <tr>\n",
              "      <th>1</th>\n",
              "      <td>1.0</td>\n",
              "      <td>Allison, Master. Hudson Trevor</td>\n",
              "      <td>male</td>\n",
              "      <td>0.9167</td>\n",
              "      <td>1.0</td>\n",
              "      <td>2.0</td>\n",
              "      <td>113781</td>\n",
              "      <td>151.5500</td>\n",
              "      <td>C22 C26</td>\n",
              "      <td>S</td>\n",
              "      <td>11</td>\n",
              "      <td>NaN</td>\n",
              "      <td>Montreal, PQ / Chesterville, ON</td>\n",
              "    </tr>\n",
              "  </tbody>\n",
              "</table>\n",
              "</div>\n",
              "      <button class=\"colab-df-convert\" onclick=\"convertToInteractive('df-53969692-d49b-4c9c-be31-bb12d5665f5e')\"\n",
              "              title=\"Convert this dataframe to an interactive table.\"\n",
              "              style=\"display:none;\">\n",
              "        \n",
              "  <svg xmlns=\"http://www.w3.org/2000/svg\" height=\"24px\"viewBox=\"0 0 24 24\"\n",
              "       width=\"24px\">\n",
              "    <path d=\"M0 0h24v24H0V0z\" fill=\"none\"/>\n",
              "    <path d=\"M18.56 5.44l.94 2.06.94-2.06 2.06-.94-2.06-.94-.94-2.06-.94 2.06-2.06.94zm-11 1L8.5 8.5l.94-2.06 2.06-.94-2.06-.94L8.5 2.5l-.94 2.06-2.06.94zm10 10l.94 2.06.94-2.06 2.06-.94-2.06-.94-.94-2.06-.94 2.06-2.06.94z\"/><path d=\"M17.41 7.96l-1.37-1.37c-.4-.4-.92-.59-1.43-.59-.52 0-1.04.2-1.43.59L10.3 9.45l-7.72 7.72c-.78.78-.78 2.05 0 2.83L4 21.41c.39.39.9.59 1.41.59.51 0 1.02-.2 1.41-.59l7.78-7.78 2.81-2.81c.8-.78.8-2.07 0-2.86zM5.41 20L4 18.59l7.72-7.72 1.47 1.35L5.41 20z\"/>\n",
              "  </svg>\n",
              "      </button>\n",
              "      \n",
              "  <style>\n",
              "    .colab-df-container {\n",
              "      display:flex;\n",
              "      flex-wrap:wrap;\n",
              "      gap: 12px;\n",
              "    }\n",
              "\n",
              "    .colab-df-convert {\n",
              "      background-color: #E8F0FE;\n",
              "      border: none;\n",
              "      border-radius: 50%;\n",
              "      cursor: pointer;\n",
              "      display: none;\n",
              "      fill: #1967D2;\n",
              "      height: 32px;\n",
              "      padding: 0 0 0 0;\n",
              "      width: 32px;\n",
              "    }\n",
              "\n",
              "    .colab-df-convert:hover {\n",
              "      background-color: #E2EBFA;\n",
              "      box-shadow: 0px 1px 2px rgba(60, 64, 67, 0.3), 0px 1px 3px 1px rgba(60, 64, 67, 0.15);\n",
              "      fill: #174EA6;\n",
              "    }\n",
              "\n",
              "    [theme=dark] .colab-df-convert {\n",
              "      background-color: #3B4455;\n",
              "      fill: #D2E3FC;\n",
              "    }\n",
              "\n",
              "    [theme=dark] .colab-df-convert:hover {\n",
              "      background-color: #434B5C;\n",
              "      box-shadow: 0px 1px 3px 1px rgba(0, 0, 0, 0.15);\n",
              "      filter: drop-shadow(0px 1px 2px rgba(0, 0, 0, 0.3));\n",
              "      fill: #FFFFFF;\n",
              "    }\n",
              "  </style>\n",
              "\n",
              "      <script>\n",
              "        const buttonEl =\n",
              "          document.querySelector('#df-53969692-d49b-4c9c-be31-bb12d5665f5e button.colab-df-convert');\n",
              "        buttonEl.style.display =\n",
              "          google.colab.kernel.accessAllowed ? 'block' : 'none';\n",
              "\n",
              "        async function convertToInteractive(key) {\n",
              "          const element = document.querySelector('#df-53969692-d49b-4c9c-be31-bb12d5665f5e');\n",
              "          const dataTable =\n",
              "            await google.colab.kernel.invokeFunction('convertToInteractive',\n",
              "                                                     [key], {});\n",
              "          if (!dataTable) return;\n",
              "\n",
              "          const docLinkHtml = 'Like what you see? Visit the ' +\n",
              "            '<a target=\"_blank\" href=https://colab.research.google.com/notebooks/data_table.ipynb>data table notebook</a>'\n",
              "            + ' to learn more about interactive tables.';\n",
              "          element.innerHTML = '';\n",
              "          dataTable['output_type'] = 'display_data';\n",
              "          await google.colab.output.renderOutput(dataTable, element);\n",
              "          const docLink = document.createElement('div');\n",
              "          docLink.innerHTML = docLinkHtml;\n",
              "          element.appendChild(docLink);\n",
              "        }\n",
              "      </script>\n",
              "    </div>\n",
              "  </div>\n",
              "  "
            ],
            "text/plain": [
              "   pclass  ...                        home.dest\n",
              "0     1.0  ...                     St Louis, MO\n",
              "1     1.0  ...  Montreal, PQ / Chesterville, ON\n",
              "\n",
              "[2 rows x 13 columns]"
            ]
          },
          "metadata": {},
          "execution_count": 9
        }
      ]
    },
    {
      "cell_type": "code",
      "source": [
        "describer(X)"
      ],
      "metadata": {
        "colab": {
          "base_uri": "https://localhost:8080/",
          "height": 0
        },
        "id": "aBHKhvcfgIUk",
        "outputId": "8ec5068e-03f8-4b9d-d50d-5568ef066e6a"
      },
      "execution_count": 10,
      "outputs": [
        {
          "output_type": "execute_result",
          "data": {
            "text/html": [
              "\n",
              "  <div id=\"df-a9ac39cc-8262-4c2a-84f6-8167cd1105c0\">\n",
              "    <div class=\"colab-df-container\">\n",
              "      <div>\n",
              "<style scoped>\n",
              "    .dataframe tbody tr th:only-of-type {\n",
              "        vertical-align: middle;\n",
              "    }\n",
              "\n",
              "    .dataframe tbody tr th {\n",
              "        vertical-align: top;\n",
              "    }\n",
              "\n",
              "    .dataframe thead th {\n",
              "        text-align: right;\n",
              "    }\n",
              "</style>\n",
              "<table border=\"1\" class=\"dataframe\">\n",
              "  <thead>\n",
              "    <tr style=\"text-align: right;\">\n",
              "      <th></th>\n",
              "      <th>count</th>\n",
              "      <th>unique</th>\n",
              "      <th>top</th>\n",
              "      <th>freq</th>\n",
              "      <th>mean</th>\n",
              "      <th>std</th>\n",
              "      <th>min</th>\n",
              "      <th>25%</th>\n",
              "      <th>50%</th>\n",
              "      <th>75%</th>\n",
              "      <th>max</th>\n",
              "      <th>NullAny</th>\n",
              "      <th>NullSum</th>\n",
              "      <th>NullPct</th>\n",
              "      <th>dtypes</th>\n",
              "    </tr>\n",
              "  </thead>\n",
              "  <tbody>\n",
              "    <tr>\n",
              "      <th>pclass</th>\n",
              "      <td>1309.0</td>\n",
              "      <td>3</td>\n",
              "      <td>NaN</td>\n",
              "      <td>NaN</td>\n",
              "      <td>2.29</td>\n",
              "      <td>0.84</td>\n",
              "      <td>1.0</td>\n",
              "      <td>2.0</td>\n",
              "      <td>3.0</td>\n",
              "      <td>3.0</td>\n",
              "      <td>3.0</td>\n",
              "      <td>False</td>\n",
              "      <td>0</td>\n",
              "      <td>0.00</td>\n",
              "      <td>float64</td>\n",
              "    </tr>\n",
              "    <tr>\n",
              "      <th>age</th>\n",
              "      <td>1046.0</td>\n",
              "      <td>98</td>\n",
              "      <td>NaN</td>\n",
              "      <td>NaN</td>\n",
              "      <td>29.88</td>\n",
              "      <td>14.41</td>\n",
              "      <td>0.17</td>\n",
              "      <td>21.0</td>\n",
              "      <td>28.0</td>\n",
              "      <td>39.0</td>\n",
              "      <td>80.0</td>\n",
              "      <td>True</td>\n",
              "      <td>263</td>\n",
              "      <td>20.10</td>\n",
              "      <td>float64</td>\n",
              "    </tr>\n",
              "    <tr>\n",
              "      <th>sibsp</th>\n",
              "      <td>1309.0</td>\n",
              "      <td>7</td>\n",
              "      <td>NaN</td>\n",
              "      <td>NaN</td>\n",
              "      <td>0.5</td>\n",
              "      <td>1.04</td>\n",
              "      <td>0.0</td>\n",
              "      <td>0.0</td>\n",
              "      <td>0.0</td>\n",
              "      <td>1.0</td>\n",
              "      <td>8.0</td>\n",
              "      <td>False</td>\n",
              "      <td>0</td>\n",
              "      <td>0.00</td>\n",
              "      <td>float64</td>\n",
              "    </tr>\n",
              "    <tr>\n",
              "      <th>parch</th>\n",
              "      <td>1309.0</td>\n",
              "      <td>8</td>\n",
              "      <td>NaN</td>\n",
              "      <td>NaN</td>\n",
              "      <td>0.39</td>\n",
              "      <td>0.87</td>\n",
              "      <td>0.0</td>\n",
              "      <td>0.0</td>\n",
              "      <td>0.0</td>\n",
              "      <td>0.0</td>\n",
              "      <td>9.0</td>\n",
              "      <td>False</td>\n",
              "      <td>0</td>\n",
              "      <td>0.00</td>\n",
              "      <td>float64</td>\n",
              "    </tr>\n",
              "    <tr>\n",
              "      <th>fare</th>\n",
              "      <td>1308.0</td>\n",
              "      <td>281</td>\n",
              "      <td>NaN</td>\n",
              "      <td>NaN</td>\n",
              "      <td>33.3</td>\n",
              "      <td>51.76</td>\n",
              "      <td>0.0</td>\n",
              "      <td>7.9</td>\n",
              "      <td>14.45</td>\n",
              "      <td>31.28</td>\n",
              "      <td>512.33</td>\n",
              "      <td>True</td>\n",
              "      <td>1</td>\n",
              "      <td>0.08</td>\n",
              "      <td>float64</td>\n",
              "    </tr>\n",
              "    <tr>\n",
              "      <th>body</th>\n",
              "      <td>121.0</td>\n",
              "      <td>121</td>\n",
              "      <td>NaN</td>\n",
              "      <td>NaN</td>\n",
              "      <td>160.81</td>\n",
              "      <td>97.7</td>\n",
              "      <td>1.0</td>\n",
              "      <td>72.0</td>\n",
              "      <td>155.0</td>\n",
              "      <td>256.0</td>\n",
              "      <td>328.0</td>\n",
              "      <td>True</td>\n",
              "      <td>1188</td>\n",
              "      <td>90.80</td>\n",
              "      <td>float64</td>\n",
              "    </tr>\n",
              "    <tr>\n",
              "      <th>name</th>\n",
              "      <td>1309</td>\n",
              "      <td>1307</td>\n",
              "      <td>Connolly, Miss. Kate</td>\n",
              "      <td>2</td>\n",
              "      <td>NaN</td>\n",
              "      <td>NaN</td>\n",
              "      <td>NaN</td>\n",
              "      <td>NaN</td>\n",
              "      <td>NaN</td>\n",
              "      <td>NaN</td>\n",
              "      <td>NaN</td>\n",
              "      <td>False</td>\n",
              "      <td>0</td>\n",
              "      <td>0.00</td>\n",
              "      <td>object</td>\n",
              "    </tr>\n",
              "    <tr>\n",
              "      <th>ticket</th>\n",
              "      <td>1309</td>\n",
              "      <td>929</td>\n",
              "      <td>CA. 2343</td>\n",
              "      <td>11</td>\n",
              "      <td>NaN</td>\n",
              "      <td>NaN</td>\n",
              "      <td>NaN</td>\n",
              "      <td>NaN</td>\n",
              "      <td>NaN</td>\n",
              "      <td>NaN</td>\n",
              "      <td>NaN</td>\n",
              "      <td>False</td>\n",
              "      <td>0</td>\n",
              "      <td>0.00</td>\n",
              "      <td>object</td>\n",
              "    </tr>\n",
              "    <tr>\n",
              "      <th>cabin</th>\n",
              "      <td>295</td>\n",
              "      <td>186</td>\n",
              "      <td>C23 C25 C27</td>\n",
              "      <td>6</td>\n",
              "      <td>NaN</td>\n",
              "      <td>NaN</td>\n",
              "      <td>NaN</td>\n",
              "      <td>NaN</td>\n",
              "      <td>NaN</td>\n",
              "      <td>NaN</td>\n",
              "      <td>NaN</td>\n",
              "      <td>True</td>\n",
              "      <td>1014</td>\n",
              "      <td>77.50</td>\n",
              "      <td>object</td>\n",
              "    </tr>\n",
              "    <tr>\n",
              "      <th>boat</th>\n",
              "      <td>486</td>\n",
              "      <td>27</td>\n",
              "      <td>13</td>\n",
              "      <td>39</td>\n",
              "      <td>NaN</td>\n",
              "      <td>NaN</td>\n",
              "      <td>NaN</td>\n",
              "      <td>NaN</td>\n",
              "      <td>NaN</td>\n",
              "      <td>NaN</td>\n",
              "      <td>NaN</td>\n",
              "      <td>True</td>\n",
              "      <td>823</td>\n",
              "      <td>62.90</td>\n",
              "      <td>object</td>\n",
              "    </tr>\n",
              "    <tr>\n",
              "      <th>home.dest</th>\n",
              "      <td>745</td>\n",
              "      <td>369</td>\n",
              "      <td>New York, NY</td>\n",
              "      <td>64</td>\n",
              "      <td>NaN</td>\n",
              "      <td>NaN</td>\n",
              "      <td>NaN</td>\n",
              "      <td>NaN</td>\n",
              "      <td>NaN</td>\n",
              "      <td>NaN</td>\n",
              "      <td>NaN</td>\n",
              "      <td>True</td>\n",
              "      <td>564</td>\n",
              "      <td>43.10</td>\n",
              "      <td>object</td>\n",
              "    </tr>\n",
              "    <tr>\n",
              "      <th>sex</th>\n",
              "      <td>1309</td>\n",
              "      <td>2</td>\n",
              "      <td>male</td>\n",
              "      <td>843</td>\n",
              "      <td>NaN</td>\n",
              "      <td>NaN</td>\n",
              "      <td>NaN</td>\n",
              "      <td>NaN</td>\n",
              "      <td>NaN</td>\n",
              "      <td>NaN</td>\n",
              "      <td>NaN</td>\n",
              "      <td>False</td>\n",
              "      <td>0</td>\n",
              "      <td>0.00</td>\n",
              "      <td>category</td>\n",
              "    </tr>\n",
              "    <tr>\n",
              "      <th>embarked</th>\n",
              "      <td>1307</td>\n",
              "      <td>3</td>\n",
              "      <td>S</td>\n",
              "      <td>914</td>\n",
              "      <td>NaN</td>\n",
              "      <td>NaN</td>\n",
              "      <td>NaN</td>\n",
              "      <td>NaN</td>\n",
              "      <td>NaN</td>\n",
              "      <td>NaN</td>\n",
              "      <td>NaN</td>\n",
              "      <td>True</td>\n",
              "      <td>2</td>\n",
              "      <td>0.20</td>\n",
              "      <td>category</td>\n",
              "    </tr>\n",
              "  </tbody>\n",
              "</table>\n",
              "</div>\n",
              "      <button class=\"colab-df-convert\" onclick=\"convertToInteractive('df-a9ac39cc-8262-4c2a-84f6-8167cd1105c0')\"\n",
              "              title=\"Convert this dataframe to an interactive table.\"\n",
              "              style=\"display:none;\">\n",
              "        \n",
              "  <svg xmlns=\"http://www.w3.org/2000/svg\" height=\"24px\"viewBox=\"0 0 24 24\"\n",
              "       width=\"24px\">\n",
              "    <path d=\"M0 0h24v24H0V0z\" fill=\"none\"/>\n",
              "    <path d=\"M18.56 5.44l.94 2.06.94-2.06 2.06-.94-2.06-.94-.94-2.06-.94 2.06-2.06.94zm-11 1L8.5 8.5l.94-2.06 2.06-.94-2.06-.94L8.5 2.5l-.94 2.06-2.06.94zm10 10l.94 2.06.94-2.06 2.06-.94-2.06-.94-.94-2.06-.94 2.06-2.06.94z\"/><path d=\"M17.41 7.96l-1.37-1.37c-.4-.4-.92-.59-1.43-.59-.52 0-1.04.2-1.43.59L10.3 9.45l-7.72 7.72c-.78.78-.78 2.05 0 2.83L4 21.41c.39.39.9.59 1.41.59.51 0 1.02-.2 1.41-.59l7.78-7.78 2.81-2.81c.8-.78.8-2.07 0-2.86zM5.41 20L4 18.59l7.72-7.72 1.47 1.35L5.41 20z\"/>\n",
              "  </svg>\n",
              "      </button>\n",
              "      \n",
              "  <style>\n",
              "    .colab-df-container {\n",
              "      display:flex;\n",
              "      flex-wrap:wrap;\n",
              "      gap: 12px;\n",
              "    }\n",
              "\n",
              "    .colab-df-convert {\n",
              "      background-color: #E8F0FE;\n",
              "      border: none;\n",
              "      border-radius: 50%;\n",
              "      cursor: pointer;\n",
              "      display: none;\n",
              "      fill: #1967D2;\n",
              "      height: 32px;\n",
              "      padding: 0 0 0 0;\n",
              "      width: 32px;\n",
              "    }\n",
              "\n",
              "    .colab-df-convert:hover {\n",
              "      background-color: #E2EBFA;\n",
              "      box-shadow: 0px 1px 2px rgba(60, 64, 67, 0.3), 0px 1px 3px 1px rgba(60, 64, 67, 0.15);\n",
              "      fill: #174EA6;\n",
              "    }\n",
              "\n",
              "    [theme=dark] .colab-df-convert {\n",
              "      background-color: #3B4455;\n",
              "      fill: #D2E3FC;\n",
              "    }\n",
              "\n",
              "    [theme=dark] .colab-df-convert:hover {\n",
              "      background-color: #434B5C;\n",
              "      box-shadow: 0px 1px 3px 1px rgba(0, 0, 0, 0.15);\n",
              "      filter: drop-shadow(0px 1px 2px rgba(0, 0, 0, 0.3));\n",
              "      fill: #FFFFFF;\n",
              "    }\n",
              "  </style>\n",
              "\n",
              "      <script>\n",
              "        const buttonEl =\n",
              "          document.querySelector('#df-a9ac39cc-8262-4c2a-84f6-8167cd1105c0 button.colab-df-convert');\n",
              "        buttonEl.style.display =\n",
              "          google.colab.kernel.accessAllowed ? 'block' : 'none';\n",
              "\n",
              "        async function convertToInteractive(key) {\n",
              "          const element = document.querySelector('#df-a9ac39cc-8262-4c2a-84f6-8167cd1105c0');\n",
              "          const dataTable =\n",
              "            await google.colab.kernel.invokeFunction('convertToInteractive',\n",
              "                                                     [key], {});\n",
              "          if (!dataTable) return;\n",
              "\n",
              "          const docLinkHtml = 'Like what you see? Visit the ' +\n",
              "            '<a target=\"_blank\" href=https://colab.research.google.com/notebooks/data_table.ipynb>data table notebook</a>'\n",
              "            + ' to learn more about interactive tables.';\n",
              "          element.innerHTML = '';\n",
              "          dataTable['output_type'] = 'display_data';\n",
              "          await google.colab.output.renderOutput(dataTable, element);\n",
              "          const docLink = document.createElement('div');\n",
              "          docLink.innerHTML = docLinkHtml;\n",
              "          element.appendChild(docLink);\n",
              "        }\n",
              "      </script>\n",
              "    </div>\n",
              "  </div>\n",
              "  "
            ],
            "text/plain": [
              "            count  unique                   top  ... NullSum NullPct    dtypes\n",
              "pclass     1309.0       3                   NaN  ...       0    0.00   float64\n",
              "age        1046.0      98                   NaN  ...     263   20.10   float64\n",
              "sibsp      1309.0       7                   NaN  ...       0    0.00   float64\n",
              "parch      1309.0       8                   NaN  ...       0    0.00   float64\n",
              "fare       1308.0     281                   NaN  ...       1    0.08   float64\n",
              "body        121.0     121                   NaN  ...    1188   90.80   float64\n",
              "name         1309    1307  Connolly, Miss. Kate  ...       0    0.00    object\n",
              "ticket       1309     929              CA. 2343  ...       0    0.00    object\n",
              "cabin         295     186           C23 C25 C27  ...    1014   77.50    object\n",
              "boat          486      27                    13  ...     823   62.90    object\n",
              "home.dest     745     369          New York, NY  ...     564   43.10    object\n",
              "sex          1309       2                  male  ...       0    0.00  category\n",
              "embarked     1307       3                     S  ...       2    0.20  category\n",
              "\n",
              "[13 rows x 15 columns]"
            ]
          },
          "metadata": {},
          "execution_count": 10
        }
      ]
    },
    {
      "cell_type": "markdown",
      "metadata": {
        "id": "0bpjJQihclOs"
      },
      "source": [
        "## Imputation pipelline"
      ]
    },
    {
      "cell_type": "code",
      "execution_count": 12,
      "metadata": {
        "id": "iATE-dy8bnt6"
      },
      "outputs": [],
      "source": [
        "imputer = Pipeline([('drop_columns', DropColumnsTransformer([\"sibsp\",\"parch\",\"boat\",\"body\",\"home.dest\",\"ticket\"])),\n",
        "                     (\"impute_age\", AgeImputer(impute_age)),\n",
        "                     ('drop_name', DropColumnsTransformer([\"name\"])),\n",
        "                     (\"impute_fare\", FareImputer(impute_fare)),\n",
        "                     (\"impute_embarked\", EmbarkedImputer(impute_embarked)),\n",
        "                    (\"process_sex\", SexProcessor(process_sex)),\n",
        "                    (\"process_pclass\", PclassProcessor(process_pclass)),\n",
        "                     (\"process_cabin\", CabinProcessor(process_cabin)),\n",
        "                     (\"impute_cabin\", CabinImputer(impute_cabin))])"
      ]
    },
    {
      "cell_type": "code",
      "source": [
        "X = imputer.fit_transform(X)"
      ],
      "metadata": {
        "id": "mPDaogMPf-Z5"
      },
      "execution_count": 13,
      "outputs": []
    },
    {
      "cell_type": "code",
      "source": [
        "X.head()"
      ],
      "metadata": {
        "colab": {
          "base_uri": "https://localhost:8080/",
          "height": 206
        },
        "id": "M4IWI-qeygWX",
        "outputId": "c4577598-7425-4ab5-f85e-68818c35db92"
      },
      "execution_count": 14,
      "outputs": [
        {
          "output_type": "execute_result",
          "data": {
            "text/html": [
              "\n",
              "  <div id=\"df-b8fa4fcd-51a1-4595-9b6a-0f7cafae0018\">\n",
              "    <div class=\"colab-df-container\">\n",
              "      <div>\n",
              "<style scoped>\n",
              "    .dataframe tbody tr th:only-of-type {\n",
              "        vertical-align: middle;\n",
              "    }\n",
              "\n",
              "    .dataframe tbody tr th {\n",
              "        vertical-align: top;\n",
              "    }\n",
              "\n",
              "    .dataframe thead th {\n",
              "        text-align: right;\n",
              "    }\n",
              "</style>\n",
              "<table border=\"1\" class=\"dataframe\">\n",
              "  <thead>\n",
              "    <tr style=\"text-align: right;\">\n",
              "      <th></th>\n",
              "      <th>pclass</th>\n",
              "      <th>sex</th>\n",
              "      <th>age</th>\n",
              "      <th>fare</th>\n",
              "      <th>cabin</th>\n",
              "      <th>embarked</th>\n",
              "    </tr>\n",
              "  </thead>\n",
              "  <tbody>\n",
              "    <tr>\n",
              "      <th>0</th>\n",
              "      <td>0</td>\n",
              "      <td>0</td>\n",
              "      <td>29.0</td>\n",
              "      <td>211.3375</td>\n",
              "      <td>1</td>\n",
              "      <td>2</td>\n",
              "    </tr>\n",
              "    <tr>\n",
              "      <th>1</th>\n",
              "      <td>0</td>\n",
              "      <td>1</td>\n",
              "      <td>1.0</td>\n",
              "      <td>151.5500</td>\n",
              "      <td>2</td>\n",
              "      <td>2</td>\n",
              "    </tr>\n",
              "    <tr>\n",
              "      <th>2</th>\n",
              "      <td>0</td>\n",
              "      <td>0</td>\n",
              "      <td>2.0</td>\n",
              "      <td>151.5500</td>\n",
              "      <td>2</td>\n",
              "      <td>2</td>\n",
              "    </tr>\n",
              "    <tr>\n",
              "      <th>3</th>\n",
              "      <td>0</td>\n",
              "      <td>1</td>\n",
              "      <td>30.0</td>\n",
              "      <td>151.5500</td>\n",
              "      <td>2</td>\n",
              "      <td>2</td>\n",
              "    </tr>\n",
              "    <tr>\n",
              "      <th>4</th>\n",
              "      <td>0</td>\n",
              "      <td>0</td>\n",
              "      <td>25.0</td>\n",
              "      <td>151.5500</td>\n",
              "      <td>2</td>\n",
              "      <td>2</td>\n",
              "    </tr>\n",
              "  </tbody>\n",
              "</table>\n",
              "</div>\n",
              "      <button class=\"colab-df-convert\" onclick=\"convertToInteractive('df-b8fa4fcd-51a1-4595-9b6a-0f7cafae0018')\"\n",
              "              title=\"Convert this dataframe to an interactive table.\"\n",
              "              style=\"display:none;\">\n",
              "        \n",
              "  <svg xmlns=\"http://www.w3.org/2000/svg\" height=\"24px\"viewBox=\"0 0 24 24\"\n",
              "       width=\"24px\">\n",
              "    <path d=\"M0 0h24v24H0V0z\" fill=\"none\"/>\n",
              "    <path d=\"M18.56 5.44l.94 2.06.94-2.06 2.06-.94-2.06-.94-.94-2.06-.94 2.06-2.06.94zm-11 1L8.5 8.5l.94-2.06 2.06-.94-2.06-.94L8.5 2.5l-.94 2.06-2.06.94zm10 10l.94 2.06.94-2.06 2.06-.94-2.06-.94-.94-2.06-.94 2.06-2.06.94z\"/><path d=\"M17.41 7.96l-1.37-1.37c-.4-.4-.92-.59-1.43-.59-.52 0-1.04.2-1.43.59L10.3 9.45l-7.72 7.72c-.78.78-.78 2.05 0 2.83L4 21.41c.39.39.9.59 1.41.59.51 0 1.02-.2 1.41-.59l7.78-7.78 2.81-2.81c.8-.78.8-2.07 0-2.86zM5.41 20L4 18.59l7.72-7.72 1.47 1.35L5.41 20z\"/>\n",
              "  </svg>\n",
              "      </button>\n",
              "      \n",
              "  <style>\n",
              "    .colab-df-container {\n",
              "      display:flex;\n",
              "      flex-wrap:wrap;\n",
              "      gap: 12px;\n",
              "    }\n",
              "\n",
              "    .colab-df-convert {\n",
              "      background-color: #E8F0FE;\n",
              "      border: none;\n",
              "      border-radius: 50%;\n",
              "      cursor: pointer;\n",
              "      display: none;\n",
              "      fill: #1967D2;\n",
              "      height: 32px;\n",
              "      padding: 0 0 0 0;\n",
              "      width: 32px;\n",
              "    }\n",
              "\n",
              "    .colab-df-convert:hover {\n",
              "      background-color: #E2EBFA;\n",
              "      box-shadow: 0px 1px 2px rgba(60, 64, 67, 0.3), 0px 1px 3px 1px rgba(60, 64, 67, 0.15);\n",
              "      fill: #174EA6;\n",
              "    }\n",
              "\n",
              "    [theme=dark] .colab-df-convert {\n",
              "      background-color: #3B4455;\n",
              "      fill: #D2E3FC;\n",
              "    }\n",
              "\n",
              "    [theme=dark] .colab-df-convert:hover {\n",
              "      background-color: #434B5C;\n",
              "      box-shadow: 0px 1px 3px 1px rgba(0, 0, 0, 0.15);\n",
              "      filter: drop-shadow(0px 1px 2px rgba(0, 0, 0, 0.3));\n",
              "      fill: #FFFFFF;\n",
              "    }\n",
              "  </style>\n",
              "\n",
              "      <script>\n",
              "        const buttonEl =\n",
              "          document.querySelector('#df-b8fa4fcd-51a1-4595-9b6a-0f7cafae0018 button.colab-df-convert');\n",
              "        buttonEl.style.display =\n",
              "          google.colab.kernel.accessAllowed ? 'block' : 'none';\n",
              "\n",
              "        async function convertToInteractive(key) {\n",
              "          const element = document.querySelector('#df-b8fa4fcd-51a1-4595-9b6a-0f7cafae0018');\n",
              "          const dataTable =\n",
              "            await google.colab.kernel.invokeFunction('convertToInteractive',\n",
              "                                                     [key], {});\n",
              "          if (!dataTable) return;\n",
              "\n",
              "          const docLinkHtml = 'Like what you see? Visit the ' +\n",
              "            '<a target=\"_blank\" href=https://colab.research.google.com/notebooks/data_table.ipynb>data table notebook</a>'\n",
              "            + ' to learn more about interactive tables.';\n",
              "          element.innerHTML = '';\n",
              "          dataTable['output_type'] = 'display_data';\n",
              "          await google.colab.output.renderOutput(dataTable, element);\n",
              "          const docLink = document.createElement('div');\n",
              "          docLink.innerHTML = docLinkHtml;\n",
              "          element.appendChild(docLink);\n",
              "        }\n",
              "      </script>\n",
              "    </div>\n",
              "  </div>\n",
              "  "
            ],
            "text/plain": [
              "   pclass  sex   age      fare  cabin  embarked\n",
              "0       0    0  29.0  211.3375      1         2\n",
              "1       0    1   1.0  151.5500      2         2\n",
              "2       0    0   2.0  151.5500      2         2\n",
              "3       0    1  30.0  151.5500      2         2\n",
              "4       0    0  25.0  151.5500      2         2"
            ]
          },
          "metadata": {},
          "execution_count": 14
        }
      ]
    },
    {
      "cell_type": "code",
      "source": [
        "describer(X)"
      ],
      "metadata": {
        "colab": {
          "base_uri": "https://localhost:8080/",
          "height": 237
        },
        "id": "6bfTHjQJyjxS",
        "outputId": "77644e94-4f50-4234-a473-c40af5f1c755"
      },
      "execution_count": 15,
      "outputs": [
        {
          "output_type": "execute_result",
          "data": {
            "text/html": [
              "\n",
              "  <div id=\"df-720842d9-4dad-493a-a176-e298dcfcf9bb\">\n",
              "    <div class=\"colab-df-container\">\n",
              "      <div>\n",
              "<style scoped>\n",
              "    .dataframe tbody tr th:only-of-type {\n",
              "        vertical-align: middle;\n",
              "    }\n",
              "\n",
              "    .dataframe tbody tr th {\n",
              "        vertical-align: top;\n",
              "    }\n",
              "\n",
              "    .dataframe thead th {\n",
              "        text-align: right;\n",
              "    }\n",
              "</style>\n",
              "<table border=\"1\" class=\"dataframe\">\n",
              "  <thead>\n",
              "    <tr style=\"text-align: right;\">\n",
              "      <th></th>\n",
              "      <th>count</th>\n",
              "      <th>mean</th>\n",
              "      <th>std</th>\n",
              "      <th>min</th>\n",
              "      <th>25%</th>\n",
              "      <th>50%</th>\n",
              "      <th>75%</th>\n",
              "      <th>max</th>\n",
              "      <th>unique</th>\n",
              "      <th>NullAny</th>\n",
              "      <th>NullSum</th>\n",
              "      <th>NullPct</th>\n",
              "      <th>dtypes</th>\n",
              "    </tr>\n",
              "  </thead>\n",
              "  <tbody>\n",
              "    <tr>\n",
              "      <th>pclass</th>\n",
              "      <td>1309.0</td>\n",
              "      <td>1.29</td>\n",
              "      <td>0.84</td>\n",
              "      <td>0.0</td>\n",
              "      <td>1.0</td>\n",
              "      <td>2.00</td>\n",
              "      <td>2.00</td>\n",
              "      <td>2.00</td>\n",
              "      <td>3</td>\n",
              "      <td>False</td>\n",
              "      <td>0</td>\n",
              "      <td>0.0</td>\n",
              "      <td>int8</td>\n",
              "    </tr>\n",
              "    <tr>\n",
              "      <th>sex</th>\n",
              "      <td>1309.0</td>\n",
              "      <td>0.64</td>\n",
              "      <td>0.48</td>\n",
              "      <td>0.0</td>\n",
              "      <td>0.0</td>\n",
              "      <td>1.00</td>\n",
              "      <td>1.00</td>\n",
              "      <td>1.00</td>\n",
              "      <td>2</td>\n",
              "      <td>False</td>\n",
              "      <td>0</td>\n",
              "      <td>0.0</td>\n",
              "      <td>int8</td>\n",
              "    </tr>\n",
              "    <tr>\n",
              "      <th>cabin</th>\n",
              "      <td>1309.0</td>\n",
              "      <td>4.07</td>\n",
              "      <td>1.50</td>\n",
              "      <td>0.0</td>\n",
              "      <td>4.0</td>\n",
              "      <td>4.00</td>\n",
              "      <td>5.00</td>\n",
              "      <td>7.00</td>\n",
              "      <td>8</td>\n",
              "      <td>False</td>\n",
              "      <td>0</td>\n",
              "      <td>0.0</td>\n",
              "      <td>int8</td>\n",
              "    </tr>\n",
              "    <tr>\n",
              "      <th>embarked</th>\n",
              "      <td>1309.0</td>\n",
              "      <td>1.49</td>\n",
              "      <td>0.81</td>\n",
              "      <td>0.0</td>\n",
              "      <td>1.0</td>\n",
              "      <td>2.00</td>\n",
              "      <td>2.00</td>\n",
              "      <td>2.00</td>\n",
              "      <td>3</td>\n",
              "      <td>False</td>\n",
              "      <td>0</td>\n",
              "      <td>0.0</td>\n",
              "      <td>int8</td>\n",
              "    </tr>\n",
              "    <tr>\n",
              "      <th>age</th>\n",
              "      <td>1309.0</td>\n",
              "      <td>29.88</td>\n",
              "      <td>13.18</td>\n",
              "      <td>1.0</td>\n",
              "      <td>22.0</td>\n",
              "      <td>30.00</td>\n",
              "      <td>36.00</td>\n",
              "      <td>80.00</td>\n",
              "      <td>72</td>\n",
              "      <td>False</td>\n",
              "      <td>0</td>\n",
              "      <td>0.0</td>\n",
              "      <td>float64</td>\n",
              "    </tr>\n",
              "    <tr>\n",
              "      <th>fare</th>\n",
              "      <td>1309.0</td>\n",
              "      <td>33.28</td>\n",
              "      <td>51.74</td>\n",
              "      <td>0.0</td>\n",
              "      <td>7.9</td>\n",
              "      <td>14.45</td>\n",
              "      <td>31.28</td>\n",
              "      <td>512.33</td>\n",
              "      <td>281</td>\n",
              "      <td>False</td>\n",
              "      <td>0</td>\n",
              "      <td>0.0</td>\n",
              "      <td>float64</td>\n",
              "    </tr>\n",
              "  </tbody>\n",
              "</table>\n",
              "</div>\n",
              "      <button class=\"colab-df-convert\" onclick=\"convertToInteractive('df-720842d9-4dad-493a-a176-e298dcfcf9bb')\"\n",
              "              title=\"Convert this dataframe to an interactive table.\"\n",
              "              style=\"display:none;\">\n",
              "        \n",
              "  <svg xmlns=\"http://www.w3.org/2000/svg\" height=\"24px\"viewBox=\"0 0 24 24\"\n",
              "       width=\"24px\">\n",
              "    <path d=\"M0 0h24v24H0V0z\" fill=\"none\"/>\n",
              "    <path d=\"M18.56 5.44l.94 2.06.94-2.06 2.06-.94-2.06-.94-.94-2.06-.94 2.06-2.06.94zm-11 1L8.5 8.5l.94-2.06 2.06-.94-2.06-.94L8.5 2.5l-.94 2.06-2.06.94zm10 10l.94 2.06.94-2.06 2.06-.94-2.06-.94-.94-2.06-.94 2.06-2.06.94z\"/><path d=\"M17.41 7.96l-1.37-1.37c-.4-.4-.92-.59-1.43-.59-.52 0-1.04.2-1.43.59L10.3 9.45l-7.72 7.72c-.78.78-.78 2.05 0 2.83L4 21.41c.39.39.9.59 1.41.59.51 0 1.02-.2 1.41-.59l7.78-7.78 2.81-2.81c.8-.78.8-2.07 0-2.86zM5.41 20L4 18.59l7.72-7.72 1.47 1.35L5.41 20z\"/>\n",
              "  </svg>\n",
              "      </button>\n",
              "      \n",
              "  <style>\n",
              "    .colab-df-container {\n",
              "      display:flex;\n",
              "      flex-wrap:wrap;\n",
              "      gap: 12px;\n",
              "    }\n",
              "\n",
              "    .colab-df-convert {\n",
              "      background-color: #E8F0FE;\n",
              "      border: none;\n",
              "      border-radius: 50%;\n",
              "      cursor: pointer;\n",
              "      display: none;\n",
              "      fill: #1967D2;\n",
              "      height: 32px;\n",
              "      padding: 0 0 0 0;\n",
              "      width: 32px;\n",
              "    }\n",
              "\n",
              "    .colab-df-convert:hover {\n",
              "      background-color: #E2EBFA;\n",
              "      box-shadow: 0px 1px 2px rgba(60, 64, 67, 0.3), 0px 1px 3px 1px rgba(60, 64, 67, 0.15);\n",
              "      fill: #174EA6;\n",
              "    }\n",
              "\n",
              "    [theme=dark] .colab-df-convert {\n",
              "      background-color: #3B4455;\n",
              "      fill: #D2E3FC;\n",
              "    }\n",
              "\n",
              "    [theme=dark] .colab-df-convert:hover {\n",
              "      background-color: #434B5C;\n",
              "      box-shadow: 0px 1px 3px 1px rgba(0, 0, 0, 0.15);\n",
              "      filter: drop-shadow(0px 1px 2px rgba(0, 0, 0, 0.3));\n",
              "      fill: #FFFFFF;\n",
              "    }\n",
              "  </style>\n",
              "\n",
              "      <script>\n",
              "        const buttonEl =\n",
              "          document.querySelector('#df-720842d9-4dad-493a-a176-e298dcfcf9bb button.colab-df-convert');\n",
              "        buttonEl.style.display =\n",
              "          google.colab.kernel.accessAllowed ? 'block' : 'none';\n",
              "\n",
              "        async function convertToInteractive(key) {\n",
              "          const element = document.querySelector('#df-720842d9-4dad-493a-a176-e298dcfcf9bb');\n",
              "          const dataTable =\n",
              "            await google.colab.kernel.invokeFunction('convertToInteractive',\n",
              "                                                     [key], {});\n",
              "          if (!dataTable) return;\n",
              "\n",
              "          const docLinkHtml = 'Like what you see? Visit the ' +\n",
              "            '<a target=\"_blank\" href=https://colab.research.google.com/notebooks/data_table.ipynb>data table notebook</a>'\n",
              "            + ' to learn more about interactive tables.';\n",
              "          element.innerHTML = '';\n",
              "          dataTable['output_type'] = 'display_data';\n",
              "          await google.colab.output.renderOutput(dataTable, element);\n",
              "          const docLink = document.createElement('div');\n",
              "          docLink.innerHTML = docLinkHtml;\n",
              "          element.appendChild(docLink);\n",
              "        }\n",
              "      </script>\n",
              "    </div>\n",
              "  </div>\n",
              "  "
            ],
            "text/plain": [
              "           count   mean    std  min  ...  NullAny  NullSum  NullPct   dtypes\n",
              "pclass    1309.0   1.29   0.84  0.0  ...    False        0      0.0     int8\n",
              "sex       1309.0   0.64   0.48  0.0  ...    False        0      0.0     int8\n",
              "cabin     1309.0   4.07   1.50  0.0  ...    False        0      0.0     int8\n",
              "embarked  1309.0   1.49   0.81  0.0  ...    False        0      0.0     int8\n",
              "age       1309.0  29.88  13.18  1.0  ...    False        0      0.0  float64\n",
              "fare      1309.0  33.28  51.74  0.0  ...    False        0      0.0  float64\n",
              "\n",
              "[6 rows x 13 columns]"
            ]
          },
          "metadata": {},
          "execution_count": 15
        }
      ]
    },
    {
      "cell_type": "markdown",
      "metadata": {
        "id": "9_TMqfoGwi0D"
      },
      "source": [
        "## Transforming pipelline"
      ]
    },
    {
      "cell_type": "code",
      "execution_count": 16,
      "metadata": {
        "id": "n6vHCYhCqdU0"
      },
      "outputs": [],
      "source": [
        "cat_transformer = Pipeline([('onehot', OneHotEncoder())])\n",
        "num_transformer = Pipeline([('robustscaler', RobustScaler())])\n",
        "\n",
        "transformer = ColumnTransformer([('num', num_transformer, ['age', 'fare']),\n",
        "                                 ('cat', cat_transformer, ['pclass','sex','embarked',\"cabin\"])])"
      ]
    },
    {
      "cell_type": "code",
      "source": [
        "X = transformer.fit_transform(X)"
      ],
      "metadata": {
        "id": "VxTLmh-vgr8F"
      },
      "execution_count": 17,
      "outputs": []
    },
    {
      "cell_type": "code",
      "source": [
        "X = pd.DataFrame(X, columns=transformer.get_feature_names_out()).rename(columns=lambda x: re.sub('cat__|num__','',x))"
      ],
      "metadata": {
        "id": "8MxqwH7HzE1l"
      },
      "execution_count": 30,
      "outputs": []
    },
    {
      "cell_type": "code",
      "source": [
        "X.head(2)"
      ],
      "metadata": {
        "colab": {
          "base_uri": "https://localhost:8080/",
          "height": 112
        },
        "id": "_gA9FMXxkbhk",
        "outputId": "dc45b9d0-bf56-41ad-f62c-9ecadff043a3"
      },
      "execution_count": 31,
      "outputs": [
        {
          "output_type": "execute_result",
          "data": {
            "text/html": [
              "\n",
              "  <div id=\"df-e0d1e2e9-3ab2-48d5-98b3-d7d4a348b11d\">\n",
              "    <div class=\"colab-df-container\">\n",
              "      <div>\n",
              "<style scoped>\n",
              "    .dataframe tbody tr th:only-of-type {\n",
              "        vertical-align: middle;\n",
              "    }\n",
              "\n",
              "    .dataframe tbody tr th {\n",
              "        vertical-align: top;\n",
              "    }\n",
              "\n",
              "    .dataframe thead th {\n",
              "        text-align: right;\n",
              "    }\n",
              "</style>\n",
              "<table border=\"1\" class=\"dataframe\">\n",
              "  <thead>\n",
              "    <tr style=\"text-align: right;\">\n",
              "      <th></th>\n",
              "      <th>age</th>\n",
              "      <th>fare</th>\n",
              "      <th>pclass_0</th>\n",
              "      <th>pclass_1</th>\n",
              "      <th>pclass_2</th>\n",
              "      <th>sex_0</th>\n",
              "      <th>sex_1</th>\n",
              "      <th>embarked_0</th>\n",
              "      <th>embarked_1</th>\n",
              "      <th>embarked_2</th>\n",
              "      <th>cabin_0</th>\n",
              "      <th>cabin_1</th>\n",
              "      <th>cabin_2</th>\n",
              "      <th>cabin_3</th>\n",
              "      <th>cabin_4</th>\n",
              "      <th>cabin_5</th>\n",
              "      <th>cabin_6</th>\n",
              "      <th>cabin_7</th>\n",
              "    </tr>\n",
              "  </thead>\n",
              "  <tbody>\n",
              "    <tr>\n",
              "      <th>0</th>\n",
              "      <td>-0.071429</td>\n",
              "      <td>8.421302</td>\n",
              "      <td>1.0</td>\n",
              "      <td>0.0</td>\n",
              "      <td>0.0</td>\n",
              "      <td>1.0</td>\n",
              "      <td>0.0</td>\n",
              "      <td>0.0</td>\n",
              "      <td>0.0</td>\n",
              "      <td>1.0</td>\n",
              "      <td>0.0</td>\n",
              "      <td>1.0</td>\n",
              "      <td>0.0</td>\n",
              "      <td>0.0</td>\n",
              "      <td>0.0</td>\n",
              "      <td>0.0</td>\n",
              "      <td>0.0</td>\n",
              "      <td>0.0</td>\n",
              "    </tr>\n",
              "    <tr>\n",
              "      <th>1</th>\n",
              "      <td>-2.071429</td>\n",
              "      <td>5.864007</td>\n",
              "      <td>1.0</td>\n",
              "      <td>0.0</td>\n",
              "      <td>0.0</td>\n",
              "      <td>0.0</td>\n",
              "      <td>1.0</td>\n",
              "      <td>0.0</td>\n",
              "      <td>0.0</td>\n",
              "      <td>1.0</td>\n",
              "      <td>0.0</td>\n",
              "      <td>0.0</td>\n",
              "      <td>1.0</td>\n",
              "      <td>0.0</td>\n",
              "      <td>0.0</td>\n",
              "      <td>0.0</td>\n",
              "      <td>0.0</td>\n",
              "      <td>0.0</td>\n",
              "    </tr>\n",
              "  </tbody>\n",
              "</table>\n",
              "</div>\n",
              "      <button class=\"colab-df-convert\" onclick=\"convertToInteractive('df-e0d1e2e9-3ab2-48d5-98b3-d7d4a348b11d')\"\n",
              "              title=\"Convert this dataframe to an interactive table.\"\n",
              "              style=\"display:none;\">\n",
              "        \n",
              "  <svg xmlns=\"http://www.w3.org/2000/svg\" height=\"24px\"viewBox=\"0 0 24 24\"\n",
              "       width=\"24px\">\n",
              "    <path d=\"M0 0h24v24H0V0z\" fill=\"none\"/>\n",
              "    <path d=\"M18.56 5.44l.94 2.06.94-2.06 2.06-.94-2.06-.94-.94-2.06-.94 2.06-2.06.94zm-11 1L8.5 8.5l.94-2.06 2.06-.94-2.06-.94L8.5 2.5l-.94 2.06-2.06.94zm10 10l.94 2.06.94-2.06 2.06-.94-2.06-.94-.94-2.06-.94 2.06-2.06.94z\"/><path d=\"M17.41 7.96l-1.37-1.37c-.4-.4-.92-.59-1.43-.59-.52 0-1.04.2-1.43.59L10.3 9.45l-7.72 7.72c-.78.78-.78 2.05 0 2.83L4 21.41c.39.39.9.59 1.41.59.51 0 1.02-.2 1.41-.59l7.78-7.78 2.81-2.81c.8-.78.8-2.07 0-2.86zM5.41 20L4 18.59l7.72-7.72 1.47 1.35L5.41 20z\"/>\n",
              "  </svg>\n",
              "      </button>\n",
              "      \n",
              "  <style>\n",
              "    .colab-df-container {\n",
              "      display:flex;\n",
              "      flex-wrap:wrap;\n",
              "      gap: 12px;\n",
              "    }\n",
              "\n",
              "    .colab-df-convert {\n",
              "      background-color: #E8F0FE;\n",
              "      border: none;\n",
              "      border-radius: 50%;\n",
              "      cursor: pointer;\n",
              "      display: none;\n",
              "      fill: #1967D2;\n",
              "      height: 32px;\n",
              "      padding: 0 0 0 0;\n",
              "      width: 32px;\n",
              "    }\n",
              "\n",
              "    .colab-df-convert:hover {\n",
              "      background-color: #E2EBFA;\n",
              "      box-shadow: 0px 1px 2px rgba(60, 64, 67, 0.3), 0px 1px 3px 1px rgba(60, 64, 67, 0.15);\n",
              "      fill: #174EA6;\n",
              "    }\n",
              "\n",
              "    [theme=dark] .colab-df-convert {\n",
              "      background-color: #3B4455;\n",
              "      fill: #D2E3FC;\n",
              "    }\n",
              "\n",
              "    [theme=dark] .colab-df-convert:hover {\n",
              "      background-color: #434B5C;\n",
              "      box-shadow: 0px 1px 3px 1px rgba(0, 0, 0, 0.15);\n",
              "      filter: drop-shadow(0px 1px 2px rgba(0, 0, 0, 0.3));\n",
              "      fill: #FFFFFF;\n",
              "    }\n",
              "  </style>\n",
              "\n",
              "      <script>\n",
              "        const buttonEl =\n",
              "          document.querySelector('#df-e0d1e2e9-3ab2-48d5-98b3-d7d4a348b11d button.colab-df-convert');\n",
              "        buttonEl.style.display =\n",
              "          google.colab.kernel.accessAllowed ? 'block' : 'none';\n",
              "\n",
              "        async function convertToInteractive(key) {\n",
              "          const element = document.querySelector('#df-e0d1e2e9-3ab2-48d5-98b3-d7d4a348b11d');\n",
              "          const dataTable =\n",
              "            await google.colab.kernel.invokeFunction('convertToInteractive',\n",
              "                                                     [key], {});\n",
              "          if (!dataTable) return;\n",
              "\n",
              "          const docLinkHtml = 'Like what you see? Visit the ' +\n",
              "            '<a target=\"_blank\" href=https://colab.research.google.com/notebooks/data_table.ipynb>data table notebook</a>'\n",
              "            + ' to learn more about interactive tables.';\n",
              "          element.innerHTML = '';\n",
              "          dataTable['output_type'] = 'display_data';\n",
              "          await google.colab.output.renderOutput(dataTable, element);\n",
              "          const docLink = document.createElement('div');\n",
              "          docLink.innerHTML = docLinkHtml;\n",
              "          element.appendChild(docLink);\n",
              "        }\n",
              "      </script>\n",
              "    </div>\n",
              "  </div>\n",
              "  "
            ],
            "text/plain": [
              "        age      fare  pclass_0  pclass_1  ...  cabin_4  cabin_5  cabin_6  cabin_7\n",
              "0 -0.071429  8.421302       1.0       0.0  ...      0.0      0.0      0.0      0.0\n",
              "1 -2.071429  5.864007       1.0       0.0  ...      0.0      0.0      0.0      0.0\n",
              "\n",
              "[2 rows x 18 columns]"
            ]
          },
          "metadata": {},
          "execution_count": 31
        }
      ]
    },
    {
      "cell_type": "code",
      "source": [
        "describer(X)"
      ],
      "metadata": {
        "colab": {
          "base_uri": "https://localhost:8080/",
          "height": 613
        },
        "id": "_MZFim9-kbkN",
        "outputId": "4ed35cc7-44f1-487a-db5c-66d8e917afca"
      },
      "execution_count": 32,
      "outputs": [
        {
          "output_type": "execute_result",
          "data": {
            "text/html": [
              "\n",
              "  <div id=\"df-fef09101-d90a-46d3-aead-82d1ee35ccb8\">\n",
              "    <div class=\"colab-df-container\">\n",
              "      <div>\n",
              "<style scoped>\n",
              "    .dataframe tbody tr th:only-of-type {\n",
              "        vertical-align: middle;\n",
              "    }\n",
              "\n",
              "    .dataframe tbody tr th {\n",
              "        vertical-align: top;\n",
              "    }\n",
              "\n",
              "    .dataframe thead th {\n",
              "        text-align: right;\n",
              "    }\n",
              "</style>\n",
              "<table border=\"1\" class=\"dataframe\">\n",
              "  <thead>\n",
              "    <tr style=\"text-align: right;\">\n",
              "      <th></th>\n",
              "      <th>count</th>\n",
              "      <th>mean</th>\n",
              "      <th>std</th>\n",
              "      <th>min</th>\n",
              "      <th>25%</th>\n",
              "      <th>50%</th>\n",
              "      <th>75%</th>\n",
              "      <th>max</th>\n",
              "      <th>unique</th>\n",
              "      <th>NullAny</th>\n",
              "      <th>NullSum</th>\n",
              "      <th>NullPct</th>\n",
              "      <th>dtypes</th>\n",
              "    </tr>\n",
              "  </thead>\n",
              "  <tbody>\n",
              "    <tr>\n",
              "      <th>age</th>\n",
              "      <td>1309.0</td>\n",
              "      <td>-0.01</td>\n",
              "      <td>0.94</td>\n",
              "      <td>-2.07</td>\n",
              "      <td>-0.57</td>\n",
              "      <td>0.0</td>\n",
              "      <td>0.43</td>\n",
              "      <td>3.57</td>\n",
              "      <td>72</td>\n",
              "      <td>False</td>\n",
              "      <td>0</td>\n",
              "      <td>0.0</td>\n",
              "      <td>float64</td>\n",
              "    </tr>\n",
              "    <tr>\n",
              "      <th>cabin_5</th>\n",
              "      <td>1309.0</td>\n",
              "      <td>0.35</td>\n",
              "      <td>0.48</td>\n",
              "      <td>0.00</td>\n",
              "      <td>0.00</td>\n",
              "      <td>0.0</td>\n",
              "      <td>1.00</td>\n",
              "      <td>1.00</td>\n",
              "      <td>2</td>\n",
              "      <td>False</td>\n",
              "      <td>0</td>\n",
              "      <td>0.0</td>\n",
              "      <td>float64</td>\n",
              "    </tr>\n",
              "    <tr>\n",
              "      <th>cabin_4</th>\n",
              "      <td>1309.0</td>\n",
              "      <td>0.28</td>\n",
              "      <td>0.45</td>\n",
              "      <td>0.00</td>\n",
              "      <td>0.00</td>\n",
              "      <td>0.0</td>\n",
              "      <td>1.00</td>\n",
              "      <td>1.00</td>\n",
              "      <td>2</td>\n",
              "      <td>False</td>\n",
              "      <td>0</td>\n",
              "      <td>0.0</td>\n",
              "      <td>float64</td>\n",
              "    </tr>\n",
              "    <tr>\n",
              "      <th>cabin_3</th>\n",
              "      <td>1309.0</td>\n",
              "      <td>0.06</td>\n",
              "      <td>0.24</td>\n",
              "      <td>0.00</td>\n",
              "      <td>0.00</td>\n",
              "      <td>0.0</td>\n",
              "      <td>0.00</td>\n",
              "      <td>1.00</td>\n",
              "      <td>2</td>\n",
              "      <td>False</td>\n",
              "      <td>0</td>\n",
              "      <td>0.0</td>\n",
              "      <td>float64</td>\n",
              "    </tr>\n",
              "    <tr>\n",
              "      <th>cabin_2</th>\n",
              "      <td>1309.0</td>\n",
              "      <td>0.10</td>\n",
              "      <td>0.29</td>\n",
              "      <td>0.00</td>\n",
              "      <td>0.00</td>\n",
              "      <td>0.0</td>\n",
              "      <td>0.00</td>\n",
              "      <td>1.00</td>\n",
              "      <td>2</td>\n",
              "      <td>False</td>\n",
              "      <td>0</td>\n",
              "      <td>0.0</td>\n",
              "      <td>float64</td>\n",
              "    </tr>\n",
              "    <tr>\n",
              "      <th>cabin_1</th>\n",
              "      <td>1309.0</td>\n",
              "      <td>0.06</td>\n",
              "      <td>0.24</td>\n",
              "      <td>0.00</td>\n",
              "      <td>0.00</td>\n",
              "      <td>0.0</td>\n",
              "      <td>0.00</td>\n",
              "      <td>1.00</td>\n",
              "      <td>2</td>\n",
              "      <td>False</td>\n",
              "      <td>0</td>\n",
              "      <td>0.0</td>\n",
              "      <td>float64</td>\n",
              "    </tr>\n",
              "    <tr>\n",
              "      <th>cabin_0</th>\n",
              "      <td>1309.0</td>\n",
              "      <td>0.02</td>\n",
              "      <td>0.15</td>\n",
              "      <td>0.00</td>\n",
              "      <td>0.00</td>\n",
              "      <td>0.0</td>\n",
              "      <td>0.00</td>\n",
              "      <td>1.00</td>\n",
              "      <td>2</td>\n",
              "      <td>False</td>\n",
              "      <td>0</td>\n",
              "      <td>0.0</td>\n",
              "      <td>float64</td>\n",
              "    </tr>\n",
              "    <tr>\n",
              "      <th>embarked_2</th>\n",
              "      <td>1309.0</td>\n",
              "      <td>0.70</td>\n",
              "      <td>0.46</td>\n",
              "      <td>0.00</td>\n",
              "      <td>0.00</td>\n",
              "      <td>1.0</td>\n",
              "      <td>1.00</td>\n",
              "      <td>1.00</td>\n",
              "      <td>2</td>\n",
              "      <td>False</td>\n",
              "      <td>0</td>\n",
              "      <td>0.0</td>\n",
              "      <td>float64</td>\n",
              "    </tr>\n",
              "    <tr>\n",
              "      <th>embarked_1</th>\n",
              "      <td>1309.0</td>\n",
              "      <td>0.09</td>\n",
              "      <td>0.29</td>\n",
              "      <td>0.00</td>\n",
              "      <td>0.00</td>\n",
              "      <td>0.0</td>\n",
              "      <td>0.00</td>\n",
              "      <td>1.00</td>\n",
              "      <td>2</td>\n",
              "      <td>False</td>\n",
              "      <td>0</td>\n",
              "      <td>0.0</td>\n",
              "      <td>float64</td>\n",
              "    </tr>\n",
              "    <tr>\n",
              "      <th>embarked_0</th>\n",
              "      <td>1309.0</td>\n",
              "      <td>0.21</td>\n",
              "      <td>0.40</td>\n",
              "      <td>0.00</td>\n",
              "      <td>0.00</td>\n",
              "      <td>0.0</td>\n",
              "      <td>0.00</td>\n",
              "      <td>1.00</td>\n",
              "      <td>2</td>\n",
              "      <td>False</td>\n",
              "      <td>0</td>\n",
              "      <td>0.0</td>\n",
              "      <td>float64</td>\n",
              "    </tr>\n",
              "    <tr>\n",
              "      <th>sex_1</th>\n",
              "      <td>1309.0</td>\n",
              "      <td>0.64</td>\n",
              "      <td>0.48</td>\n",
              "      <td>0.00</td>\n",
              "      <td>0.00</td>\n",
              "      <td>1.0</td>\n",
              "      <td>1.00</td>\n",
              "      <td>1.00</td>\n",
              "      <td>2</td>\n",
              "      <td>False</td>\n",
              "      <td>0</td>\n",
              "      <td>0.0</td>\n",
              "      <td>float64</td>\n",
              "    </tr>\n",
              "    <tr>\n",
              "      <th>sex_0</th>\n",
              "      <td>1309.0</td>\n",
              "      <td>0.36</td>\n",
              "      <td>0.48</td>\n",
              "      <td>0.00</td>\n",
              "      <td>0.00</td>\n",
              "      <td>0.0</td>\n",
              "      <td>1.00</td>\n",
              "      <td>1.00</td>\n",
              "      <td>2</td>\n",
              "      <td>False</td>\n",
              "      <td>0</td>\n",
              "      <td>0.0</td>\n",
              "      <td>float64</td>\n",
              "    </tr>\n",
              "    <tr>\n",
              "      <th>pclass_2</th>\n",
              "      <td>1309.0</td>\n",
              "      <td>0.54</td>\n",
              "      <td>0.50</td>\n",
              "      <td>0.00</td>\n",
              "      <td>0.00</td>\n",
              "      <td>1.0</td>\n",
              "      <td>1.00</td>\n",
              "      <td>1.00</td>\n",
              "      <td>2</td>\n",
              "      <td>False</td>\n",
              "      <td>0</td>\n",
              "      <td>0.0</td>\n",
              "      <td>float64</td>\n",
              "    </tr>\n",
              "    <tr>\n",
              "      <th>pclass_1</th>\n",
              "      <td>1309.0</td>\n",
              "      <td>0.21</td>\n",
              "      <td>0.41</td>\n",
              "      <td>0.00</td>\n",
              "      <td>0.00</td>\n",
              "      <td>0.0</td>\n",
              "      <td>0.00</td>\n",
              "      <td>1.00</td>\n",
              "      <td>2</td>\n",
              "      <td>False</td>\n",
              "      <td>0</td>\n",
              "      <td>0.0</td>\n",
              "      <td>float64</td>\n",
              "    </tr>\n",
              "    <tr>\n",
              "      <th>pclass_0</th>\n",
              "      <td>1309.0</td>\n",
              "      <td>0.25</td>\n",
              "      <td>0.43</td>\n",
              "      <td>0.00</td>\n",
              "      <td>0.00</td>\n",
              "      <td>0.0</td>\n",
              "      <td>0.00</td>\n",
              "      <td>1.00</td>\n",
              "      <td>2</td>\n",
              "      <td>False</td>\n",
              "      <td>0</td>\n",
              "      <td>0.0</td>\n",
              "      <td>float64</td>\n",
              "    </tr>\n",
              "    <tr>\n",
              "      <th>fare</th>\n",
              "      <td>1309.0</td>\n",
              "      <td>0.81</td>\n",
              "      <td>2.21</td>\n",
              "      <td>-0.62</td>\n",
              "      <td>-0.28</td>\n",
              "      <td>0.0</td>\n",
              "      <td>0.72</td>\n",
              "      <td>21.30</td>\n",
              "      <td>281</td>\n",
              "      <td>False</td>\n",
              "      <td>0</td>\n",
              "      <td>0.0</td>\n",
              "      <td>float64</td>\n",
              "    </tr>\n",
              "    <tr>\n",
              "      <th>cabin_6</th>\n",
              "      <td>1309.0</td>\n",
              "      <td>0.13</td>\n",
              "      <td>0.33</td>\n",
              "      <td>0.00</td>\n",
              "      <td>0.00</td>\n",
              "      <td>0.0</td>\n",
              "      <td>0.00</td>\n",
              "      <td>1.00</td>\n",
              "      <td>2</td>\n",
              "      <td>False</td>\n",
              "      <td>0</td>\n",
              "      <td>0.0</td>\n",
              "      <td>float64</td>\n",
              "    </tr>\n",
              "    <tr>\n",
              "      <th>cabin_7</th>\n",
              "      <td>1309.0</td>\n",
              "      <td>0.00</td>\n",
              "      <td>0.03</td>\n",
              "      <td>0.00</td>\n",
              "      <td>0.00</td>\n",
              "      <td>0.0</td>\n",
              "      <td>0.00</td>\n",
              "      <td>1.00</td>\n",
              "      <td>2</td>\n",
              "      <td>False</td>\n",
              "      <td>0</td>\n",
              "      <td>0.0</td>\n",
              "      <td>float64</td>\n",
              "    </tr>\n",
              "  </tbody>\n",
              "</table>\n",
              "</div>\n",
              "      <button class=\"colab-df-convert\" onclick=\"convertToInteractive('df-fef09101-d90a-46d3-aead-82d1ee35ccb8')\"\n",
              "              title=\"Convert this dataframe to an interactive table.\"\n",
              "              style=\"display:none;\">\n",
              "        \n",
              "  <svg xmlns=\"http://www.w3.org/2000/svg\" height=\"24px\"viewBox=\"0 0 24 24\"\n",
              "       width=\"24px\">\n",
              "    <path d=\"M0 0h24v24H0V0z\" fill=\"none\"/>\n",
              "    <path d=\"M18.56 5.44l.94 2.06.94-2.06 2.06-.94-2.06-.94-.94-2.06-.94 2.06-2.06.94zm-11 1L8.5 8.5l.94-2.06 2.06-.94-2.06-.94L8.5 2.5l-.94 2.06-2.06.94zm10 10l.94 2.06.94-2.06 2.06-.94-2.06-.94-.94-2.06-.94 2.06-2.06.94z\"/><path d=\"M17.41 7.96l-1.37-1.37c-.4-.4-.92-.59-1.43-.59-.52 0-1.04.2-1.43.59L10.3 9.45l-7.72 7.72c-.78.78-.78 2.05 0 2.83L4 21.41c.39.39.9.59 1.41.59.51 0 1.02-.2 1.41-.59l7.78-7.78 2.81-2.81c.8-.78.8-2.07 0-2.86zM5.41 20L4 18.59l7.72-7.72 1.47 1.35L5.41 20z\"/>\n",
              "  </svg>\n",
              "      </button>\n",
              "      \n",
              "  <style>\n",
              "    .colab-df-container {\n",
              "      display:flex;\n",
              "      flex-wrap:wrap;\n",
              "      gap: 12px;\n",
              "    }\n",
              "\n",
              "    .colab-df-convert {\n",
              "      background-color: #E8F0FE;\n",
              "      border: none;\n",
              "      border-radius: 50%;\n",
              "      cursor: pointer;\n",
              "      display: none;\n",
              "      fill: #1967D2;\n",
              "      height: 32px;\n",
              "      padding: 0 0 0 0;\n",
              "      width: 32px;\n",
              "    }\n",
              "\n",
              "    .colab-df-convert:hover {\n",
              "      background-color: #E2EBFA;\n",
              "      box-shadow: 0px 1px 2px rgba(60, 64, 67, 0.3), 0px 1px 3px 1px rgba(60, 64, 67, 0.15);\n",
              "      fill: #174EA6;\n",
              "    }\n",
              "\n",
              "    [theme=dark] .colab-df-convert {\n",
              "      background-color: #3B4455;\n",
              "      fill: #D2E3FC;\n",
              "    }\n",
              "\n",
              "    [theme=dark] .colab-df-convert:hover {\n",
              "      background-color: #434B5C;\n",
              "      box-shadow: 0px 1px 3px 1px rgba(0, 0, 0, 0.15);\n",
              "      filter: drop-shadow(0px 1px 2px rgba(0, 0, 0, 0.3));\n",
              "      fill: #FFFFFF;\n",
              "    }\n",
              "  </style>\n",
              "\n",
              "      <script>\n",
              "        const buttonEl =\n",
              "          document.querySelector('#df-fef09101-d90a-46d3-aead-82d1ee35ccb8 button.colab-df-convert');\n",
              "        buttonEl.style.display =\n",
              "          google.colab.kernel.accessAllowed ? 'block' : 'none';\n",
              "\n",
              "        async function convertToInteractive(key) {\n",
              "          const element = document.querySelector('#df-fef09101-d90a-46d3-aead-82d1ee35ccb8');\n",
              "          const dataTable =\n",
              "            await google.colab.kernel.invokeFunction('convertToInteractive',\n",
              "                                                     [key], {});\n",
              "          if (!dataTable) return;\n",
              "\n",
              "          const docLinkHtml = 'Like what you see? Visit the ' +\n",
              "            '<a target=\"_blank\" href=https://colab.research.google.com/notebooks/data_table.ipynb>data table notebook</a>'\n",
              "            + ' to learn more about interactive tables.';\n",
              "          element.innerHTML = '';\n",
              "          dataTable['output_type'] = 'display_data';\n",
              "          await google.colab.output.renderOutput(dataTable, element);\n",
              "          const docLink = document.createElement('div');\n",
              "          docLink.innerHTML = docLinkHtml;\n",
              "          element.appendChild(docLink);\n",
              "        }\n",
              "      </script>\n",
              "    </div>\n",
              "  </div>\n",
              "  "
            ],
            "text/plain": [
              "             count  mean   std   min  ...  NullAny  NullSum  NullPct   dtypes\n",
              "age         1309.0 -0.01  0.94 -2.07  ...    False        0      0.0  float64\n",
              "cabin_5     1309.0  0.35  0.48  0.00  ...    False        0      0.0  float64\n",
              "cabin_4     1309.0  0.28  0.45  0.00  ...    False        0      0.0  float64\n",
              "cabin_3     1309.0  0.06  0.24  0.00  ...    False        0      0.0  float64\n",
              "cabin_2     1309.0  0.10  0.29  0.00  ...    False        0      0.0  float64\n",
              "cabin_1     1309.0  0.06  0.24  0.00  ...    False        0      0.0  float64\n",
              "cabin_0     1309.0  0.02  0.15  0.00  ...    False        0      0.0  float64\n",
              "embarked_2  1309.0  0.70  0.46  0.00  ...    False        0      0.0  float64\n",
              "embarked_1  1309.0  0.09  0.29  0.00  ...    False        0      0.0  float64\n",
              "embarked_0  1309.0  0.21  0.40  0.00  ...    False        0      0.0  float64\n",
              "sex_1       1309.0  0.64  0.48  0.00  ...    False        0      0.0  float64\n",
              "sex_0       1309.0  0.36  0.48  0.00  ...    False        0      0.0  float64\n",
              "pclass_2    1309.0  0.54  0.50  0.00  ...    False        0      0.0  float64\n",
              "pclass_1    1309.0  0.21  0.41  0.00  ...    False        0      0.0  float64\n",
              "pclass_0    1309.0  0.25  0.43  0.00  ...    False        0      0.0  float64\n",
              "fare        1309.0  0.81  2.21 -0.62  ...    False        0      0.0  float64\n",
              "cabin_6     1309.0  0.13  0.33  0.00  ...    False        0      0.0  float64\n",
              "cabin_7     1309.0  0.00  0.03  0.00  ...    False        0      0.0  float64\n",
              "\n",
              "[18 rows x 13 columns]"
            ]
          },
          "metadata": {},
          "execution_count": 32
        }
      ]
    },
    {
      "cell_type": "markdown",
      "source": [
        "####clf"
      ],
      "metadata": {
        "id": "9ZjjHOrXmZGu"
      }
    },
    {
      "cell_type": "code",
      "source": [
        "X_train, X_test, y_train, y_test = train_test_split(X, y, stratify=y, random_state=130)"
      ],
      "metadata": {
        "id": "7GiS-RmMepfK"
      },
      "execution_count": 33,
      "outputs": []
    },
    {
      "cell_type": "code",
      "source": [
        "clf = RandomForestClassifier(random_state=130)"
      ],
      "metadata": {
        "id": "wb1rPJEqgZGy"
      },
      "execution_count": 34,
      "outputs": []
    },
    {
      "cell_type": "code",
      "source": [
        "round(cross_val_score(clf, X_train, y_train, cv=10, scoring=\"accuracy\").mean(),4)"
      ],
      "metadata": {
        "colab": {
          "base_uri": "https://localhost:8080/"
        },
        "id": "IQke3v22e0Ji",
        "outputId": "ff8f8a9a-6d2e-49d7-f88e-50802352f814"
      },
      "execution_count": 44,
      "outputs": [
        {
          "output_type": "execute_result",
          "data": {
            "text/plain": [
              "0.7971"
            ]
          },
          "metadata": {},
          "execution_count": 44
        }
      ]
    },
    {
      "cell_type": "code",
      "source": [
        "clf.fit(X_train, y_train)"
      ],
      "metadata": {
        "colab": {
          "base_uri": "https://localhost:8080/"
        },
        "id": "w_lOSLhPgjKG",
        "outputId": "601bfa80-c1a1-4eaa-894b-e58f85916751"
      },
      "execution_count": 112,
      "outputs": [
        {
          "output_type": "execute_result",
          "data": {
            "text/plain": [
              "RandomForestClassifier(random_state=130)"
            ]
          },
          "metadata": {},
          "execution_count": 112
        }
      ]
    },
    {
      "cell_type": "code",
      "source": [
        "pickle.dump(clf, open(\"clf.pkl\", 'wb'))"
      ],
      "metadata": {
        "id": "XvlB90DWuKhV"
      },
      "execution_count": 40,
      "outputs": []
    },
    {
      "cell_type": "code",
      "source": [
        "clf = pickle.load(open(\"clf.pkl\", 'rb'))"
      ],
      "metadata": {
        "id": "9nZFLMByuMUa"
      },
      "execution_count": 41,
      "outputs": []
    },
    {
      "cell_type": "code",
      "source": [
        "y_pred = clf.predict(X_test)"
      ],
      "metadata": {
        "id": "NQEuvaKigjNP"
      },
      "execution_count": 52,
      "outputs": []
    },
    {
      "cell_type": "code",
      "source": [
        "print(classification_report(y_test, y_pred))"
      ],
      "metadata": {
        "colab": {
          "base_uri": "https://localhost:8080/"
        },
        "id": "bXTsGNNEgjQU",
        "outputId": "f6d32202-4037-4db3-e572-2013593db009"
      },
      "execution_count": null,
      "outputs": [
        {
          "output_type": "stream",
          "name": "stdout",
          "text": [
            "              precision    recall  f1-score   support\n",
            "\n",
            "           0       0.77      0.88      0.82       162\n",
            "           1       0.74      0.57      0.64       100\n",
            "\n",
            "    accuracy                           0.76       262\n",
            "   macro avg       0.75      0.72      0.73       262\n",
            "weighted avg       0.76      0.76      0.75       262\n",
            "\n"
          ]
        }
      ]
    },
    {
      "cell_type": "code",
      "source": [
        "cm = confusion_matrix(y_test,y_pred,normalize='true', labels=clf.classes_).round(2)\n",
        "disp = ConfusionMatrixDisplay(confusion_matrix=cm, display_labels=clf.classes_)\n",
        "disp.plot()\n",
        "plt.show()"
      ],
      "metadata": {
        "colab": {
          "base_uri": "https://localhost:8080/",
          "height": 447
        },
        "id": "9o6yVoe7hbG1",
        "outputId": "94a7a106-e610-40b0-b1c4-9f4f0866b7f2"
      },
      "execution_count": 43,
      "outputs": [
        {
          "output_type": "display_data",
          "data": {
            "image/png": "[encoded data removed]",
            "text/plain": [
              "<Figure size 864x504 with 2 Axes>"
            ]
          },
          "metadata": {}
        }
      ]
    },
    {
      "cell_type": "markdown",
      "source": [
        "####clf randomsearchCV"
      ],
      "metadata": {
        "id": "MmYZc6SZmggA"
      }
    },
    {
      "cell_type": "code",
      "source": [
        "random_forest_params = {'n_estimators': list(range(50, 1000)),\n",
        "                      'criterion': [\"gini\", \"entropy\"],\n",
        "                      'max_depth': list(range(2, 15)),\n",
        "                      \"min_samples_split\": list(range(2, 5)),\n",
        "                      \"max_features\": [\"auto\", \"sqrt\", \"log2\", None],\n",
        "                      'bootstrap': [True, False]}\n",
        "\n",
        "param_dist = { **random_forest_params}"
      ],
      "metadata": {
        "id": "dvA58p8QjVBR"
      },
      "execution_count": 45,
      "outputs": []
    },
    {
      "cell_type": "code",
      "source": [
        "random_search = RandomizedSearchCV(clf,param_distributions=param_dist,n_iter=100, cv=5, random_state=130,  scoring=\"accuracy\", verbose=1)"
      ],
      "metadata": {
        "id": "5cz7HnXgjVDv"
      },
      "execution_count": 46,
      "outputs": []
    },
    {
      "cell_type": "code",
      "source": [
        "random_search.fit(X_train, y_train)"
      ],
      "metadata": {
        "colab": {
          "base_uri": "https://localhost:8080/"
        },
        "id": "_kopNTGGjVGK",
        "outputId": "3974de7b-7ab6-44d7-c3ec-1c0b3b1c7032"
      },
      "execution_count": null,
      "outputs": [
        {
          "output_type": "stream",
          "name": "stdout",
          "text": [
            "Fitting 5 folds for each of 100 candidates, totalling 500 fits\n"
          ]
        },
        {
          "output_type": "execute_result",
          "data": {
            "text/plain": [
              "RandomizedSearchCV(cv=5, estimator=RandomForestClassifier(random_state=130),\n",
              "                   n_iter=100,\n",
              "                   param_distributions={'bootstrap': [True, False],\n",
              "                                        'criterion': ['gini', 'entropy'],\n",
              "                                        'max_depth': [2, 3, 4, 5, 6, 7, 8, 9,\n",
              "                                                      10, 11, 12, 13, 14],\n",
              "                                        'max_features': ['auto', 'sqrt', 'log2',\n",
              "                                                         None],\n",
              "                                        'min_samples_split': [2, 3, 4],\n",
              "                                        'n_estimators': [50, 51, 52, 53, 54, 55,\n",
              "                                                         56, 57, 58, 59, 60, 61,\n",
              "                                                         62, 63, 64, 65, 66, 67,\n",
              "                                                         68, 69, 70, 71, 72, 73,\n",
              "                                                         74, 75, 76, 77, 78, 79, ...]},\n",
              "                   random_state=130, scoring='accuracy', verbose=1)"
            ]
          },
          "metadata": {},
          "execution_count": 32
        }
      ]
    },
    {
      "cell_type": "code",
      "source": [
        "pickle.dump(random_search, open(\"random_search.pkl\", 'wb'))"
      ],
      "metadata": {
        "id": "kYk6wDnvw9vn"
      },
      "execution_count": null,
      "outputs": []
    },
    {
      "cell_type": "code",
      "source": [
        "random_search = pickle.load(open(\"random_search.pkl\", 'rb'))"
      ],
      "metadata": {
        "id": "r8nPMAEvw9vn"
      },
      "execution_count": 128,
      "outputs": []
    },
    {
      "cell_type": "code",
      "source": [
        "random_search.best_score_"
      ],
      "metadata": {
        "colab": {
          "base_uri": "https://localhost:8080/"
        },
        "id": "J7B5aeXVjVKx",
        "outputId": "6d0347eb-9c35-4fde-f819-d950b76a3da6"
      },
      "execution_count": 48,
      "outputs": [
        {
          "output_type": "execute_result",
          "data": {
            "text/plain": [
              "0.8300250626566417"
            ]
          },
          "metadata": {},
          "execution_count": 48
        }
      ]
    },
    {
      "cell_type": "code",
      "source": [
        "random_search.best_params_"
      ],
      "metadata": {
        "colab": {
          "base_uri": "https://localhost:8080/"
        },
        "id": "Wm6yPn-3jVNb",
        "outputId": "58233123-dcda-4096-fe31-00175a0fd2e0"
      },
      "execution_count": 129,
      "outputs": [
        {
          "output_type": "execute_result",
          "data": {
            "text/plain": [
              "{'bootstrap': True,\n",
              " 'criterion': 'gini',\n",
              " 'max_depth': 7,\n",
              " 'max_features': 'sqrt',\n",
              " 'min_samples_split': 2,\n",
              " 'n_estimators': 815}"
            ]
          },
          "metadata": {},
          "execution_count": 129
        }
      ]
    },
    {
      "cell_type": "code",
      "source": [
        "y_pred_RS = random_search.predict(X_test)"
      ],
      "metadata": {
        "id": "gMt-LXJsjVQO"
      },
      "execution_count": null,
      "outputs": []
    },
    {
      "cell_type": "code",
      "source": [
        "print(classification_report(y_test, y_pred_RS))"
      ],
      "metadata": {
        "colab": {
          "base_uri": "https://localhost:8080/"
        },
        "id": "y7EVk3WVmyVb",
        "outputId": "578de2f3-ae51-470e-ac8f-2e4c921f8729"
      },
      "execution_count": 54,
      "outputs": [
        {
          "output_type": "stream",
          "name": "stdout",
          "text": [
            "              precision    recall  f1-score   support\n",
            "\n",
            "           0       0.77      0.92      0.84       203\n",
            "           1       0.81      0.56      0.66       125\n",
            "\n",
            "    accuracy                           0.78       328\n",
            "   macro avg       0.79      0.74      0.75       328\n",
            "weighted avg       0.79      0.78      0.77       328\n",
            "\n"
          ]
        }
      ]
    },
    {
      "cell_type": "code",
      "source": [
        "cm = confusion_matrix(y_test,y_pred_RS,normalize='true', labels=random_search.classes_).round(2)\n",
        "disp = ConfusionMatrixDisplay(confusion_matrix=cm, display_labels=random_search.classes_)\n",
        "disp.plot()\n",
        "plt.show()"
      ],
      "metadata": {
        "colab": {
          "base_uri": "https://localhost:8080/",
          "height": 447
        },
        "id": "ym76T13Snlc8",
        "outputId": "b25b7185-20e0-49f4-8b2b-51c0e4c38182"
      },
      "execution_count": 56,
      "outputs": [
        {
          "output_type": "display_data",
          "data": {
            "image/png": "[encoded data removed]",
            "text/plain": [
              "<Figure size 864x504 with 2 Axes>"
            ]
          },
          "metadata": {}
        }
      ]
    },
    {
      "cell_type": "code",
      "source": [
        "random_search_results = pd.DataFrame(random_search.cv_results_)\n",
        "random_search_results = random_search_results.sort_values(by=\"rank_test_score\")\n",
        "random_search_results = random_search_results.filter(regex=\"mean_test_|param_\")\n",
        "random_search_results = random_search_results.rename(columns=lambda x: re.sub('mean_fit_|mean_test_|param_','',x))\n",
        "random_search_results.rename({'score':'accuracy'}, axis=1, inplace=True)\n",
        "random_search_results.fillna(\"None\", inplace=True)\n",
        "random_search_results.bootstrap = np.array(['No', 'Yes'])[random_search_results.bootstrap.astype(int)]\n",
        "random_search_results.head(2)"
      ],
      "metadata": {
        "colab": {
          "base_uri": "https://localhost:8080/",
          "height": 112
        },
        "id": "APOKbByqxYky",
        "outputId": "43256930-de77-42e6-b66e-770df00e27cb"
      },
      "execution_count": 172,
      "outputs": [
        {
          "output_type": "execute_result",
          "data": {
            "text/html": [
              "\n",
              "  <div id=\"df-e3701d71-3c13-409b-bed4-66b7132f5808\">\n",
              "    <div class=\"colab-df-container\">\n",
              "      <div>\n",
              "<style scoped>\n",
              "    .dataframe tbody tr th:only-of-type {\n",
              "        vertical-align: middle;\n",
              "    }\n",
              "\n",
              "    .dataframe tbody tr th {\n",
              "        vertical-align: top;\n",
              "    }\n",
              "\n",
              "    .dataframe thead th {\n",
              "        text-align: right;\n",
              "    }\n",
              "</style>\n",
              "<table border=\"1\" class=\"dataframe\">\n",
              "  <thead>\n",
              "    <tr style=\"text-align: right;\">\n",
              "      <th></th>\n",
              "      <th>n_estimators</th>\n",
              "      <th>min_samples_split</th>\n",
              "      <th>max_features</th>\n",
              "      <th>max_depth</th>\n",
              "      <th>criterion</th>\n",
              "      <th>bootstrap</th>\n",
              "      <th>accuracy</th>\n",
              "    </tr>\n",
              "  </thead>\n",
              "  <tbody>\n",
              "    <tr>\n",
              "      <th>49</th>\n",
              "      <td>815</td>\n",
              "      <td>2</td>\n",
              "      <td>sqrt</td>\n",
              "      <td>7</td>\n",
              "      <td>gini</td>\n",
              "      <td>Yes</td>\n",
              "      <td>0.830025</td>\n",
              "    </tr>\n",
              "    <tr>\n",
              "      <th>56</th>\n",
              "      <td>157</td>\n",
              "      <td>3</td>\n",
              "      <td>auto</td>\n",
              "      <td>8</td>\n",
              "      <td>entropy</td>\n",
              "      <td>Yes</td>\n",
              "      <td>0.829064</td>\n",
              "    </tr>\n",
              "  </tbody>\n",
              "</table>\n",
              "</div>\n",
              "      <button class=\"colab-df-convert\" onclick=\"convertToInteractive('df-e3701d71-3c13-409b-bed4-66b7132f5808')\"\n",
              "              title=\"Convert this dataframe to an interactive table.\"\n",
              "              style=\"display:none;\">\n",
              "        \n",
              "  <svg xmlns=\"http://www.w3.org/2000/svg\" height=\"24px\"viewBox=\"0 0 24 24\"\n",
              "       width=\"24px\">\n",
              "    <path d=\"M0 0h24v24H0V0z\" fill=\"none\"/>\n",
              "    <path d=\"M18.56 5.44l.94 2.06.94-2.06 2.06-.94-2.06-.94-.94-2.06-.94 2.06-2.06.94zm-11 1L8.5 8.5l.94-2.06 2.06-.94-2.06-.94L8.5 2.5l-.94 2.06-2.06.94zm10 10l.94 2.06.94-2.06 2.06-.94-2.06-.94-.94-2.06-.94 2.06-2.06.94z\"/><path d=\"M17.41 7.96l-1.37-1.37c-.4-.4-.92-.59-1.43-.59-.52 0-1.04.2-1.43.59L10.3 9.45l-7.72 7.72c-.78.78-.78 2.05 0 2.83L4 21.41c.39.39.9.59 1.41.59.51 0 1.02-.2 1.41-.59l7.78-7.78 2.81-2.81c.8-.78.8-2.07 0-2.86zM5.41 20L4 18.59l7.72-7.72 1.47 1.35L5.41 20z\"/>\n",
              "  </svg>\n",
              "      </button>\n",
              "      \n",
              "  <style>\n",
              "    .colab-df-container {\n",
              "      display:flex;\n",
              "      flex-wrap:wrap;\n",
              "      gap: 12px;\n",
              "    }\n",
              "\n",
              "    .colab-df-convert {\n",
              "      background-color: #E8F0FE;\n",
              "      border: none;\n",
              "      border-radius: 50%;\n",
              "      cursor: pointer;\n",
              "      display: none;\n",
              "      fill: #1967D2;\n",
              "      height: 32px;\n",
              "      padding: 0 0 0 0;\n",
              "      width: 32px;\n",
              "    }\n",
              "\n",
              "    .colab-df-convert:hover {\n",
              "      background-color: #E2EBFA;\n",
              "      box-shadow: 0px 1px 2px rgba(60, 64, 67, 0.3), 0px 1px 3px 1px rgba(60, 64, 67, 0.15);\n",
              "      fill: #174EA6;\n",
              "    }\n",
              "\n",
              "    [theme=dark] .colab-df-convert {\n",
              "      background-color: #3B4455;\n",
              "      fill: #D2E3FC;\n",
              "    }\n",
              "\n",
              "    [theme=dark] .colab-df-convert:hover {\n",
              "      background-color: #434B5C;\n",
              "      box-shadow: 0px 1px 3px 1px rgba(0, 0, 0, 0.15);\n",
              "      filter: drop-shadow(0px 1px 2px rgba(0, 0, 0, 0.3));\n",
              "      fill: #FFFFFF;\n",
              "    }\n",
              "  </style>\n",
              "\n",
              "      <script>\n",
              "        const buttonEl =\n",
              "          document.querySelector('#df-e3701d71-3c13-409b-bed4-66b7132f5808 button.colab-df-convert');\n",
              "        buttonEl.style.display =\n",
              "          google.colab.kernel.accessAllowed ? 'block' : 'none';\n",
              "\n",
              "        async function convertToInteractive(key) {\n",
              "          const element = document.querySelector('#df-e3701d71-3c13-409b-bed4-66b7132f5808');\n",
              "          const dataTable =\n",
              "            await google.colab.kernel.invokeFunction('convertToInteractive',\n",
              "                                                     [key], {});\n",
              "          if (!dataTable) return;\n",
              "\n",
              "          const docLinkHtml = 'Like what you see? Visit the ' +\n",
              "            '<a target=\"_blank\" href=https://colab.research.google.com/notebooks/data_table.ipynb>data table notebook</a>'\n",
              "            + ' to learn more about interactive tables.';\n",
              "          element.innerHTML = '';\n",
              "          dataTable['output_type'] = 'display_data';\n",
              "          await google.colab.output.renderOutput(dataTable, element);\n",
              "          const docLink = document.createElement('div');\n",
              "          docLink.innerHTML = docLinkHtml;\n",
              "          element.appendChild(docLink);\n",
              "        }\n",
              "      </script>\n",
              "    </div>\n",
              "  </div>\n",
              "  "
            ],
            "text/plain": [
              "    n_estimators  min_samples_split max_features  ...  criterion bootstrap  accuracy\n",
              "49           815                  2         sqrt  ...       gini       Yes  0.830025\n",
              "56           157                  3         auto  ...    entropy       Yes  0.829064\n",
              "\n",
              "[2 rows x 7 columns]"
            ]
          },
          "metadata": {},
          "execution_count": 172
        }
      ]
    },
    {
      "cell_type": "markdown",
      "source": [
        "####clf GridsearchCV"
      ],
      "metadata": {
        "id": "egc74kcXpghq"
      }
    },
    {
      "cell_type": "code",
      "source": [
        "clf = RandomForestClassifier(random_state=130, criterion=\"gini\", bootstrap=True)"
      ],
      "metadata": {
        "id": "DhS8BuZyDu83"
      },
      "execution_count": 70,
      "outputs": []
    },
    {
      "cell_type": "code",
      "source": [
        "param_grid = {'n_estimators': list(range(800, 850)),\n",
        "              'max_depth': [6,7,8],\n",
        "              \"min_samples_split\": [2,6],\n",
        "              \"max_features\": [\"auto\", \"sqrt\"]}"
      ],
      "metadata": {
        "id": "vhUqHGhj_u05"
      },
      "execution_count": 71,
      "outputs": []
    },
    {
      "cell_type": "code",
      "source": [
        "grid_search = GridSearchCV(clf,param_grid=random_forest_params, cv=2, scoring=\"accuracy\", verbose=1)"
      ],
      "metadata": {
        "id": "A-Ldjp4bjU-z"
      },
      "execution_count": 72,
      "outputs": []
    },
    {
      "cell_type": "code",
      "source": [
        "grid_search.fit(X_train, y_train)"
      ],
      "metadata": {
        "id": "g7_lMHDMqBQL",
        "colab": {
          "base_uri": "https://localhost:8080/"
        },
        "outputId": "876e1345-4427-45f7-fd5c-92703f7a63c8"
      },
      "execution_count": null,
      "outputs": [
        {
          "output_type": "stream",
          "name": "stdout",
          "text": [
            "Fitting 2 folds for each of 600 candidates, totalling 1200 fits\n"
          ]
        },
        {
          "output_type": "execute_result",
          "data": {
            "text/plain": [
              "GridSearchCV(cv=2, estimator=RandomForestClassifier(random_state=130),\n",
              "             param_grid={'max_depth': [6, 7, 8],\n",
              "                         'max_features': ['auto', 'sqrt'],\n",
              "                         'min_samples_split': [2, 6],\n",
              "                         'n_estimators': [800, 801, 802, 803, 804, 805, 806,\n",
              "                                          807, 808, 809, 810, 811, 812, 813,\n",
              "                                          814, 815, 816, 817, 818, 819, 820,\n",
              "                                          821, 822, 823, 824, 825, 826, 827,\n",
              "                                          828, 829, ...]},\n",
              "             scoring='accuracy', verbose=1)"
            ]
          },
          "metadata": {},
          "execution_count": 121
        }
      ]
    },
    {
      "cell_type": "code",
      "source": [
        "pickle.dump(grid_search, open(\"grid_search.pkl\", 'wb'))"
      ],
      "metadata": {
        "id": "CdbPKTfQuhJ1"
      },
      "execution_count": null,
      "outputs": []
    },
    {
      "cell_type": "code",
      "source": [
        "grid_search = pickle.load(open(\"grid_search.pkl\", 'rb'))"
      ],
      "metadata": {
        "id": "F8v9ZFpmuhJ2"
      },
      "execution_count": 73,
      "outputs": []
    },
    {
      "cell_type": "code",
      "source": [
        "grid_search.best_score_"
      ],
      "metadata": {
        "colab": {
          "base_uri": "https://localhost:8080/"
        },
        "id": "nVm0ob51ryxS",
        "outputId": "dcfbf1c9-f54d-4bfd-e6c7-89ba207ad9f7"
      },
      "execution_count": 74,
      "outputs": [
        {
          "output_type": "execute_result",
          "data": {
            "text/plain": [
              "0.8252138280326362"
            ]
          },
          "metadata": {},
          "execution_count": 74
        }
      ]
    },
    {
      "cell_type": "code",
      "source": [
        "grid_search.best_params_"
      ],
      "metadata": {
        "colab": {
          "base_uri": "https://localhost:8080/"
        },
        "outputId": "fad8cdaa-5a83-4675-9173-6a206913b6b8",
        "id": "LJ7c_vV9q1kI"
      },
      "execution_count": 75,
      "outputs": [
        {
          "output_type": "execute_result",
          "data": {
            "text/plain": [
              "{'max_depth': 7,\n",
              " 'max_features': 'auto',\n",
              " 'min_samples_split': 6,\n",
              " 'n_estimators': 800}"
            ]
          },
          "metadata": {},
          "execution_count": 75
        }
      ]
    },
    {
      "cell_type": "code",
      "source": [
        "y_pred_GS = grid_search.predict(X_test)"
      ],
      "metadata": {
        "id": "su5TupBUq1kJ"
      },
      "execution_count": null,
      "outputs": []
    },
    {
      "cell_type": "code",
      "source": [
        "print(classification_report(y_test, y_pred_GS))"
      ],
      "metadata": {
        "colab": {
          "base_uri": "https://localhost:8080/"
        },
        "outputId": "50b34481-5e27-445d-b1e2-c239f96bc245",
        "id": "WVuSdaEFq1kJ"
      },
      "execution_count": 77,
      "outputs": [
        {
          "output_type": "stream",
          "name": "stdout",
          "text": [
            "              precision    recall  f1-score   support\n",
            "\n",
            "           0       0.77      0.91      0.84       203\n",
            "           1       0.80      0.56      0.66       125\n",
            "\n",
            "    accuracy                           0.78       328\n",
            "   macro avg       0.78      0.74      0.75       328\n",
            "weighted avg       0.78      0.78      0.77       328\n",
            "\n"
          ]
        }
      ]
    },
    {
      "cell_type": "code",
      "source": [
        "cm = confusion_matrix(y_test,y_pred_GS,normalize='true', labels=grid_search.classes_).round(2)\n",
        "disp = ConfusionMatrixDisplay(confusion_matrix=cm, display_labels=grid_search.classes_)\n",
        "disp.plot()\n",
        "plt.show()"
      ],
      "metadata": {
        "colab": {
          "base_uri": "https://localhost:8080/",
          "height": 447
        },
        "outputId": "15c2ad86-81c1-49f4-eb29-34dbb43462e7",
        "id": "bkbcTKE3rOQz"
      },
      "execution_count": 78,
      "outputs": [
        {
          "output_type": "display_data",
          "data": {
            "image/png": "[encoded data removed]",
            "text/plain": [
              "<Figure size 864x504 with 2 Axes>"
            ]
          },
          "metadata": {}
        }
      ]
    },
    {
      "cell_type": "code",
      "source": [
        "grid_search_results = pd.DataFrame(grid_search.cv_results_)\n",
        "grid_search_results = grid_search_results.sort_values(by=\"rank_test_score\")\n",
        "grid_search_results = grid_search_results.filter(regex=\"mean_test_|param_\")\n",
        "grid_search_results = grid_search_results.rename(columns=lambda x: re.sub('mean_fit_|mean_test_|param_','',x))\n",
        "grid_search_results.rename({'score':'accuracy'}, axis=1, inplace=True)\n",
        "grid_search_results.fillna(\"None\", inplace=True)\n",
        "grid_search_results.head(2)"
      ],
      "metadata": {
        "colab": {
          "base_uri": "https://localhost:8080/",
          "height": 112
        },
        "id": "S0nzbNSqKmEG",
        "outputId": "98361fa9-967a-4a76-d0ee-ac38eceef7a9"
      },
      "execution_count": 171,
      "outputs": [
        {
          "output_type": "execute_result",
          "data": {
            "text/html": [
              "\n",
              "  <div id=\"df-66fa34cc-535f-4e42-ae94-b1d9e1b7136a\">\n",
              "    <div class=\"colab-df-container\">\n",
              "      <div>\n",
              "<style scoped>\n",
              "    .dataframe tbody tr th:only-of-type {\n",
              "        vertical-align: middle;\n",
              "    }\n",
              "\n",
              "    .dataframe tbody tr th {\n",
              "        vertical-align: top;\n",
              "    }\n",
              "\n",
              "    .dataframe thead th {\n",
              "        text-align: right;\n",
              "    }\n",
              "</style>\n",
              "<table border=\"1\" class=\"dataframe\">\n",
              "  <thead>\n",
              "    <tr style=\"text-align: right;\">\n",
              "      <th></th>\n",
              "      <th>max_depth</th>\n",
              "      <th>max_features</th>\n",
              "      <th>min_samples_split</th>\n",
              "      <th>n_estimators</th>\n",
              "      <th>accuracy</th>\n",
              "    </tr>\n",
              "  </thead>\n",
              "  <tbody>\n",
              "    <tr>\n",
              "      <th>299</th>\n",
              "      <td>7</td>\n",
              "      <td>auto</td>\n",
              "      <td>6</td>\n",
              "      <td>849</td>\n",
              "      <td>0.825214</td>\n",
              "    </tr>\n",
              "    <tr>\n",
              "      <th>277</th>\n",
              "      <td>7</td>\n",
              "      <td>auto</td>\n",
              "      <td>6</td>\n",
              "      <td>827</td>\n",
              "      <td>0.825214</td>\n",
              "    </tr>\n",
              "  </tbody>\n",
              "</table>\n",
              "</div>\n",
              "      <button class=\"colab-df-convert\" onclick=\"convertToInteractive('df-66fa34cc-535f-4e42-ae94-b1d9e1b7136a')\"\n",
              "              title=\"Convert this dataframe to an interactive table.\"\n",
              "              style=\"display:none;\">\n",
              "        \n",
              "  <svg xmlns=\"http://www.w3.org/2000/svg\" height=\"24px\"viewBox=\"0 0 24 24\"\n",
              "       width=\"24px\">\n",
              "    <path d=\"M0 0h24v24H0V0z\" fill=\"none\"/>\n",
              "    <path d=\"M18.56 5.44l.94 2.06.94-2.06 2.06-.94-2.06-.94-.94-2.06-.94 2.06-2.06.94zm-11 1L8.5 8.5l.94-2.06 2.06-.94-2.06-.94L8.5 2.5l-.94 2.06-2.06.94zm10 10l.94 2.06.94-2.06 2.06-.94-2.06-.94-.94-2.06-.94 2.06-2.06.94z\"/><path d=\"M17.41 7.96l-1.37-1.37c-.4-.4-.92-.59-1.43-.59-.52 0-1.04.2-1.43.59L10.3 9.45l-7.72 7.72c-.78.78-.78 2.05 0 2.83L4 21.41c.39.39.9.59 1.41.59.51 0 1.02-.2 1.41-.59l7.78-7.78 2.81-2.81c.8-.78.8-2.07 0-2.86zM5.41 20L4 18.59l7.72-7.72 1.47 1.35L5.41 20z\"/>\n",
              "  </svg>\n",
              "      </button>\n",
              "      \n",
              "  <style>\n",
              "    .colab-df-container {\n",
              "      display:flex;\n",
              "      flex-wrap:wrap;\n",
              "      gap: 12px;\n",
              "    }\n",
              "\n",
              "    .colab-df-convert {\n",
              "      background-color: #E8F0FE;\n",
              "      border: none;\n",
              "      border-radius: 50%;\n",
              "      cursor: pointer;\n",
              "      display: none;\n",
              "      fill: #1967D2;\n",
              "      height: 32px;\n",
              "      padding: 0 0 0 0;\n",
              "      width: 32px;\n",
              "    }\n",
              "\n",
              "    .colab-df-convert:hover {\n",
              "      background-color: #E2EBFA;\n",
              "      box-shadow: 0px 1px 2px rgba(60, 64, 67, 0.3), 0px 1px 3px 1px rgba(60, 64, 67, 0.15);\n",
              "      fill: #174EA6;\n",
              "    }\n",
              "\n",
              "    [theme=dark] .colab-df-convert {\n",
              "      background-color: #3B4455;\n",
              "      fill: #D2E3FC;\n",
              "    }\n",
              "\n",
              "    [theme=dark] .colab-df-convert:hover {\n",
              "      background-color: #434B5C;\n",
              "      box-shadow: 0px 1px 3px 1px rgba(0, 0, 0, 0.15);\n",
              "      filter: drop-shadow(0px 1px 2px rgba(0, 0, 0, 0.3));\n",
              "      fill: #FFFFFF;\n",
              "    }\n",
              "  </style>\n",
              "\n",
              "      <script>\n",
              "        const buttonEl =\n",
              "          document.querySelector('#df-66fa34cc-535f-4e42-ae94-b1d9e1b7136a button.colab-df-convert');\n",
              "        buttonEl.style.display =\n",
              "          google.colab.kernel.accessAllowed ? 'block' : 'none';\n",
              "\n",
              "        async function convertToInteractive(key) {\n",
              "          const element = document.querySelector('#df-66fa34cc-535f-4e42-ae94-b1d9e1b7136a');\n",
              "          const dataTable =\n",
              "            await google.colab.kernel.invokeFunction('convertToInteractive',\n",
              "                                                     [key], {});\n",
              "          if (!dataTable) return;\n",
              "\n",
              "          const docLinkHtml = 'Like what you see? Visit the ' +\n",
              "            '<a target=\"_blank\" href=https://colab.research.google.com/notebooks/data_table.ipynb>data table notebook</a>'\n",
              "            + ' to learn more about interactive tables.';\n",
              "          element.innerHTML = '';\n",
              "          dataTable['output_type'] = 'display_data';\n",
              "          await google.colab.output.renderOutput(dataTable, element);\n",
              "          const docLink = document.createElement('div');\n",
              "          docLink.innerHTML = docLinkHtml;\n",
              "          element.appendChild(docLink);\n",
              "        }\n",
              "      </script>\n",
              "    </div>\n",
              "  </div>\n",
              "  "
            ],
            "text/plain": [
              "     max_depth max_features  min_samples_split  n_estimators  accuracy\n",
              "299          7         auto                  6           849  0.825214\n",
              "277          7         auto                  6           827  0.825214"
            ]
          },
          "metadata": {},
          "execution_count": 171
        }
      ]
    },
    {
      "cell_type": "markdown",
      "source": [
        "# Exercise 2:\n",
        "Use a text in English that you want and calculate the frequency of the words"
      ],
      "metadata": {
        "id": "HT9JxFNwbC__"
      }
    },
    {
      "cell_type": "code",
      "source": [
        ""
      ],
      "metadata": {
        "id": "22nmONLcbFxa"
      },
      "execution_count": null,
      "outputs": []
    }
  ],
  "metadata": {
    "colab": {
      "collapsed_sections": [
        "jg9sGeCrhmBa",
        "D8nc-gSiaEl5",
        "zKZEGKl2HMP0",
        "zlKstDoZe_fO",
        "tFHvFCn4fO9o",
        "IdkRH7wgaLhj"
      ],
      "name": "S12_T01-Pipelines_grid_search_text_mining.ipynb",
      "provenance": [],
      "toc_visible": true,
      "include_colab_link": true
    },
    "interpreter": {
      "hash": "31f2aee4e71d21fbe5cf8b01ff0e069b9275f58929596ceb00d14d90e3e16cd6"
    },
    "kernelspec": {
      "display_name": "Python 3",
      "language": "python",
      "name": "python3"
    },
    "language_info": {
      "codemirror_mode": {
        "name": "ipython",
        "version": 3
      },
      "file_extension": ".py",
      "mimetype": "text/x-python",
      "name": "python",
      "nbconvert_exporter": "python",
      "pygments_lexer": "ipython3",
      "version": "3.8.10"
    },
    "metadata": {
      "interpreter": {
        "hash": "31f2aee4e71d21fbe5cf8b01ff0e069b9275f58929596ceb00d14d90e3e16cd6"
      }
    }
  },
  "nbformat": 4,
  "nbformat_minor": 0
}